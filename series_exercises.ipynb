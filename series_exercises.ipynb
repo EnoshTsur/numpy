{
 "cells": [
  {
   "cell_type": "code",
   "execution_count": null,
   "id": "faa49086-b387-450a-ba2d-a08a2204f59a",
   "metadata": {},
   "outputs": [],
   "source": []
  },
  {
   "cell_type": "code",
   "execution_count": 1,
   "id": "be11fe2f-0b2f-473a-a9d5-c6d5ce3abe1e",
   "metadata": {},
   "outputs": [],
   "source": [
    "import pandas as pd\n",
    "import numpy as np"
   ]
  },
  {
   "cell_type": "code",
   "execution_count": 4,
   "id": "d817e3b5-98fe-46a9-823f-bf7f71d49815",
   "metadata": {},
   "outputs": [
    {
     "data": {
      "text/plain": [
       "0      0\n",
       "1      5\n",
       "2    100\n",
       "3     12\n",
       "4     45\n",
       "5     90\n",
       "6     12\n",
       "Name: Sales, dtype: int64"
      ]
     },
     "execution_count": 4,
     "metadata": {},
     "output_type": "execute_result"
    }
   ],
   "source": [
    "sales_data = pd.Series([0, 5, 100, 12, 45, 90, 12], name=\"Sales\")\n",
    "sales_data"
   ]
  },
  {
   "cell_type": "code",
   "execution_count": 5,
   "id": "67ee6c5a-458f-466d-9069-722020eeffbb",
   "metadata": {},
   "outputs": [
    {
     "data": {
      "text/plain": [
       "cola       9.99\n",
       "sprite    10.50\n",
       "gum        2.99\n",
       "chips     15.99\n",
       "candy      7.50\n",
       "Name: Prices, dtype: float64"
      ]
     },
     "execution_count": 5,
     "metadata": {},
     "output_type": "execute_result"
    }
   ],
   "source": [
    "product_prices = pd.Series([9.99, 10.50, 2.99, 15.99, 7.50], \n",
    "                         index=['cola', 'sprite', 'gum', 'chips', 'candy'],\n",
    "                         name=\"Prices\")\n",
    "product_prices"
   ]
  },
  {
   "cell_type": "code",
   "execution_count": 6,
   "id": "abc5f8e4-74cc-465c-be96-b8474bca1b85",
   "metadata": {},
   "outputs": [
    {
     "data": {
      "text/plain": [
       "0      enosh\n",
       "1    matanel\n",
       "2    matanel\n",
       "3       alef\n",
       "4      yossi\n",
       "5       elad\n",
       "Name: Names, dtype: object"
      ]
     },
     "execution_count": 6,
     "metadata": {},
     "output_type": "execute_result"
    }
   ],
   "source": [
    "names = pd.Series(['enosh', 'matanel', 'matanel', 'alef', 'yossi', 'elad'],\n",
    "                 name=\"Names\")\n",
    "names"
   ]
  },
  {
   "cell_type": "code",
   "execution_count": 7,
   "id": "3e50f381-e127-4821-9934-2c86e9ccecc2",
   "metadata": {},
   "outputs": [
    {
     "data": {
      "text/plain": [
       "0     3.0\n",
       "1     NaN\n",
       "2    10.0\n",
       "3    90.0\n",
       "4     NaN\n",
       "5    45.0\n",
       "6    12.0\n",
       "Name: Values, dtype: float64"
      ]
     },
     "execution_count": 7,
     "metadata": {},
     "output_type": "execute_result"
    }
   ],
   "source": [
    "numeric_with_nan = pd.Series([3, np.NaN, 10, 90, np.NaN, 45, 12],\n",
    "                           name=\"Values\")\n",
    "numeric_with_nan"
   ]
  },
  {
   "cell_type": "code",
   "execution_count": 8,
   "id": "faa65893-8fbe-4d0e-823d-3c5c80328a53",
   "metadata": {},
   "outputs": [
    {
     "data": {
      "text/plain": [
       "2024-01-01    100\n",
       "2024-01-02    120\n",
       "2024-01-03    140\n",
       "2024-01-04     80\n",
       "2024-01-05     95\n",
       "Freq: D, Name: Daily_Sales, dtype: int64"
      ]
     },
     "execution_count": 8,
     "metadata": {},
     "output_type": "execute_result"
    }
   ],
   "source": [
    "date_series = pd.Series([100, 120, 140, 80, 95],\n",
    "                       index=pd.date_range('2024-01-01', periods=5),\n",
    "                       name=\"Daily_Sales\")\n",
    "date_series"
   ]
  },
  {
   "cell_type": "code",
   "execution_count": 9,
   "id": "e8ff4d37-cb04-41d6-a8e0-8719bc7bb73a",
   "metadata": {},
   "outputs": [
    {
     "data": {
      "text/plain": [
       "'\\nGet the first 3 elements from sales_data using numeric indexing\\nYour code here:\\n'"
      ]
     },
     "execution_count": 9,
     "metadata": {},
     "output_type": "execute_result"
    }
   ],
   "source": [
    "# Exercise 1: Indexing and Basic Operations\n",
    "\"\"\"\n",
    "Get the first 3 elements from sales_data using numeric indexing\n",
    "Your code here:\n",
    "\"\"\""
   ]
  },
  {
   "cell_type": "code",
   "execution_count": 10,
   "id": "e9852787-1d28-4330-a794-a0930df6c938",
   "metadata": {},
   "outputs": [
    {
     "data": {
      "text/plain": [
       "\"\\nChange the index of sales_data to ['Mon', 'Tue', 'Wed', 'Thu', 'Fri', 'Sat', 'Sun']\\nYour code here:\\n\""
      ]
     },
     "execution_count": 10,
     "metadata": {},
     "output_type": "execute_result"
    }
   ],
   "source": [
    "# Exercise 2: Custom Indexing\n",
    "\"\"\"\n",
    "Change the index of sales_data to ['Mon', 'Tue', 'Wed', 'Thu', 'Fri', 'Sat', 'Sun']\n",
    "Your code here:\n",
    "\"\"\"\n"
   ]
  },
  {
   "cell_type": "code",
   "execution_count": 11,
   "id": "a0c3c8b5-b258-4266-8257-c9b1193dfcb9",
   "metadata": {},
   "outputs": [
    {
     "data": {
      "text/plain": [
       "'\\nDisplay the data type, size, and index of product_prices\\nYour code here:\\n'"
      ]
     },
     "execution_count": 11,
     "metadata": {},
     "output_type": "execute_result"
    }
   ],
   "source": [
    "# Exercise 3: Series Information\n",
    "\"\"\"\n",
    "Display the data type, size, and index of product_prices\n",
    "Your code here:\n",
    "\"\"\"\n"
   ]
  },
  {
   "cell_type": "code",
   "execution_count": 12,
   "id": "ec15b074-abd1-44dc-8f3d-a3ed462fb319",
   "metadata": {},
   "outputs": [
    {
     "data": {
      "text/plain": [
       "\"\\nAccess the price of 'sprite' from product_prices using label-based indexing\\nYour code here:\\n\""
      ]
     },
     "execution_count": 12,
     "metadata": {},
     "output_type": "execute_result"
    }
   ],
   "source": [
    "# Exercise 4: Value Access\n",
    "\"\"\"\n",
    "Access the price of 'sprite' from product_prices using label-based indexing\n",
    "Your code here:\n",
    "\"\"\"\n"
   ]
  },
  {
   "cell_type": "code",
   "execution_count": 13,
   "id": "3cad18cc-a314-492c-9486-90ba323ce1c2",
   "metadata": {},
   "outputs": [
    {
     "data": {
      "text/plain": [
       "\"\\nGet all products from 'cola' to 'gum' in product_prices\\nYour code here:\\n\""
      ]
     },
     "execution_count": 13,
     "metadata": {},
     "output_type": "execute_result"
    }
   ],
   "source": [
    "# Exercise 5: Slicing\n",
    "\"\"\"\n",
    "Get all products from 'cola' to 'gum' in product_prices\n",
    "Your code here:\n",
    "\"\"\""
   ]
  },
  {
   "cell_type": "code",
   "execution_count": 14,
   "id": "0c5fc0a1-0cd2-48d6-950d-70fe4c0c4eea",
   "metadata": {},
   "outputs": [
    {
     "data": {
      "text/plain": [
       "'\\nConvert sales_data to float type\\nYour code here:\\n'"
      ]
     },
     "execution_count": 14,
     "metadata": {},
     "output_type": "execute_result"
    }
   ],
   "source": [
    "# Exercise 6: Type Conversion\n",
    "\"\"\"\n",
    "Convert sales_data to float type\n",
    "Your code here:\n",
    "\"\"\""
   ]
  },
  {
   "cell_type": "code",
   "execution_count": 15,
   "id": "80beb2aa-5475-426a-b0dc-5fdbc7462c2d",
   "metadata": {},
   "outputs": [
    {
     "data": {
      "text/plain": [
       "\"\\nConvert sales_data to string type and add '$' prefix to each value\\nYour code here:\\n\""
      ]
     },
     "execution_count": 15,
     "metadata": {},
     "output_type": "execute_result"
    }
   ],
   "source": [
    "# Exercise 7: String Conversion\n",
    "\"\"\"\n",
    "Convert sales_data to string type and add '$' prefix to each value\n",
    "Your code here:\n",
    "\"\"\"\n"
   ]
  },
  {
   "cell_type": "code",
   "execution_count": 16,
   "id": "e397d78a-b321-4e80-9f3f-d9aa38d3c70e",
   "metadata": {},
   "outputs": [
    {
     "data": {
      "text/plain": [
       "'\\nCreate a boolean series showing which values in sales_data are greater than 50\\nYour code here:\\n'"
      ]
     },
     "execution_count": 16,
     "metadata": {},
     "output_type": "execute_result"
    }
   ],
   "source": [
    "# Exercise 8: Boolean Conversion\n",
    "\"\"\"\n",
    "Create a boolean series showing which values in sales_data are greater than 50\n",
    "Your code here:\n",
    "\"\"\"\n"
   ]
  },
  {
   "cell_type": "code",
   "execution_count": 17,
   "id": "4ba28d11-99da-465e-bfb1-28415d1da6cf",
   "metadata": {},
   "outputs": [
    {
     "data": {
      "text/plain": [
       "'\\nGet all values from sales_data that are greater than the mean\\nYour code here:\\n'"
      ]
     },
     "execution_count": 17,
     "metadata": {},
     "output_type": "execute_result"
    }
   ],
   "source": [
    "# Exercise 9: Value Filtering\n",
    "\"\"\"\n",
    "Get all values from sales_data that are greater than the mean\n",
    "Your code here:\n",
    "\"\"\""
   ]
  },
  {
   "cell_type": "code",
   "execution_count": 21,
   "id": "b0fe9bf6-88b5-4acf-a5a8-77931a51b4df",
   "metadata": {},
   "outputs": [
    {
     "data": {
      "text/plain": [
       "'\\nGet all values from sales_data that are between 10 and 50\\nYour code here:\\n'"
      ]
     },
     "execution_count": 21,
     "metadata": {},
     "output_type": "execute_result"
    }
   ],
   "source": [
    "# Exercise 10: Multiple Conditions\n",
    "\"\"\"\n",
    "Get all values from sales_data that are between 10 and 50\n",
    "Your code here:\n",
    "\"\"\""
   ]
  },
  {
   "cell_type": "code",
   "execution_count": 19,
   "id": "ad93f6b8-d130-4c6c-befb-2aa6ca99d610",
   "metadata": {},
   "outputs": [
    {
     "data": {
      "text/plain": [
       "\"\\nGet all names from names series that start with 'e'\\nYour code here:\\n\""
      ]
     },
     "execution_count": 19,
     "metadata": {},
     "output_type": "execute_result"
    }
   ],
   "source": [
    "# Exercise 11: String Filtering\n",
    "\"\"\"\n",
    "Get all names from names series that start with 'e'\n",
    "Your code here:\n",
    "\"\"\""
   ]
  },
  {
   "cell_type": "code",
   "execution_count": 20,
   "id": "c2a39c1a-9dd4-4c23-ad3b-df68483f3378",
   "metadata": {},
   "outputs": [
    {
     "data": {
      "text/plain": [
       "'\\nConvert all names in the names series to uppercase\\nYour code here:\\n'"
      ]
     },
     "execution_count": 20,
     "metadata": {},
     "output_type": "execute_result"
    }
   ],
   "source": [
    "# Exercise 12: Case Manipulation\n",
    "\"\"\"\n",
    "Convert all names in the names series to uppercase\n",
    "Your code here:\n",
    "\"\"\""
   ]
  },
  {
   "cell_type": "code",
   "execution_count": 22,
   "id": "879f350b-9833-4033-9351-390adcdbcda8",
   "metadata": {},
   "outputs": [
    {
     "data": {
      "text/plain": [
       "'\\nCreate a series showing the length of each name in the names series\\nYour code here:\\n'"
      ]
     },
     "execution_count": 22,
     "metadata": {},
     "output_type": "execute_result"
    }
   ],
   "source": [
    "# Exercise 13: String Length\n",
    "\"\"\"\n",
    "Create a series showing the length of each name in the names series\n",
    "Your code here:\n",
    "\"\"\"\n"
   ]
  },
  {
   "cell_type": "code",
   "execution_count": 23,
   "id": "90f77d5e-dae6-47f3-aa01-948a08df343d",
   "metadata": {},
   "outputs": [
    {
     "data": {
      "text/plain": [
       "\"\\nReplace 'a' with '@' in all names\\nYour code here:\\n\""
      ]
     },
     "execution_count": 23,
     "metadata": {},
     "output_type": "execute_result"
    }
   ],
   "source": [
    "# Exercise 14: String Replacement\n",
    "\"\"\"\n",
    "Replace 'a' with '@' in all names\n",
    "Your code here:\n",
    "\"\"\"\n"
   ]
  },
  {
   "cell_type": "code",
   "execution_count": 24,
   "id": "be2643cd-b2e6-4a66-931e-6aece228bf35",
   "metadata": {},
   "outputs": [
    {
     "data": {
      "text/plain": [
       "'\\nAdd 100 to all values in sales_data\\nYour code here:\\n'"
      ]
     },
     "execution_count": 24,
     "metadata": {},
     "output_type": "execute_result"
    }
   ],
   "source": [
    "# Exercise 15: Basic Math\n",
    "\"\"\"\n",
    "Add 100 to all values in sales_data\n",
    "Your code here:\n",
    "\"\"\""
   ]
  },
  {
   "cell_type": "code",
   "execution_count": 29,
   "id": "2b3ac80e-95d7-495a-b47b-562d5fa297d9",
   "metadata": {},
   "outputs": [
    {
     "data": {
      "text/plain": [
       "'\\nCalculate what percentage each value in sales_data is of the total\\nYour code here:\\n'"
      ]
     },
     "execution_count": 29,
     "metadata": {},
     "output_type": "execute_result"
    }
   ],
   "source": [
    "# Exercise 16: Percentage Calculation\n",
    "\"\"\"\n",
    "Calculate what percentage each value in sales_data is of the total\n",
    "Your code here:\n",
    "\"\"\""
   ]
  },
  {
   "cell_type": "code",
   "execution_count": 30,
   "id": "312694e3-af7d-4310-b626-7cd5fb040cc7",
   "metadata": {},
   "outputs": [
    {
     "data": {
      "text/plain": [
       "'\\nApply a 10% discount to all prices in product_prices\\nYour code here:\\n'"
      ]
     },
     "execution_count": 30,
     "metadata": {},
     "output_type": "execute_result"
    }
   ],
   "source": [
    "# Exercise 17: Custom Operation\n",
    "\"\"\"\n",
    "Apply a 10% discount to all prices in product_prices\n",
    "Your code here:\n",
    "\"\"\""
   ]
  },
  {
   "cell_type": "code",
   "execution_count": 31,
   "id": "88efe13c-1f65-4960-8f43-14fa808a5d49",
   "metadata": {},
   "outputs": [
    {
     "data": {
      "text/plain": [
       "'\\nSort sales_data in descending order\\nYour code here:\\n'"
      ]
     },
     "execution_count": 31,
     "metadata": {},
     "output_type": "execute_result"
    }
   ],
   "source": [
    "# Exercise 18: Value Sorting\n",
    "\"\"\"\n",
    "Sort sales_data in descending order\n",
    "Your code here:\n",
    "\"\"\""
   ]
  },
  {
   "cell_type": "code",
   "execution_count": 33,
   "id": "51885114-e211-4882-a095-8d067c1ecd1a",
   "metadata": {},
   "outputs": [
    {
     "data": {
      "text/plain": [
       "'\\nSort product_prices by index\\nYour code here:\\n'"
      ]
     },
     "execution_count": 33,
     "metadata": {},
     "output_type": "execute_result"
    }
   ],
   "source": [
    "# Exercise 19: Index Sorting\n",
    "\"\"\"\n",
    "Sort product_prices by index\n",
    "Your code here:\n",
    "\"\"\""
   ]
  },
  {
   "cell_type": "code",
   "execution_count": 34,
   "id": "2a5d6926-77e8-44c4-8735-0fc4cca75d2f",
   "metadata": {},
   "outputs": [
    {
     "data": {
      "text/plain": [
       "'\\nCount the frequency of each name in the names series\\nYour code here:\\n'"
      ]
     },
     "execution_count": 34,
     "metadata": {},
     "output_type": "execute_result"
    }
   ],
   "source": [
    "# Exercise 20: Value Counts\n",
    "\"\"\"\n",
    "Count the frequency of each name in the names series\n",
    "Your code here:\n",
    "\"\"\""
   ]
  },
  {
   "cell_type": "code",
   "execution_count": 38,
   "id": "67c4f7de-f98a-4ece-ba2b-e1011eb788dc",
   "metadata": {},
   "outputs": [
    {
     "data": {
      "text/plain": [
       "'\\nFind all null values in numeric_with_nan\\nYour code here:\\n'"
      ]
     },
     "execution_count": 38,
     "metadata": {},
     "output_type": "execute_result"
    }
   ],
   "source": [
    "# Exercise 21: Null Detection\n",
    "\"\"\"\n",
    "Find all null values in numeric_with_nan\n",
    "Your code here:\n",
    "\"\"\""
   ]
  },
  {
   "cell_type": "code",
   "execution_count": 37,
   "id": "5549f228-a921-4dfd-b251-6f410215af13",
   "metadata": {},
   "outputs": [
    {
     "data": {
      "text/plain": [
       "'\\nFill null values in numeric_with_nan with the mean of non-null values\\nYour code here:\\n'"
      ]
     },
     "execution_count": 37,
     "metadata": {},
     "output_type": "execute_result"
    }
   ],
   "source": [
    "# Exercise 22: Null Filling\n",
    "\"\"\"\n",
    "Fill null values in numeric_with_nan with the mean of non-null values\n",
    "Your code here:\n",
    "\"\"\""
   ]
  },
  {
   "cell_type": "code",
   "execution_count": 40,
   "id": "80e27743-4d9f-4e40-a285-5710b67b440e",
   "metadata": {},
   "outputs": [
    {
     "data": {
      "text/plain": [
       "'\\nRemove all rows with null values from numeric_with_nan\\nYour code here:\\n'"
      ]
     },
     "execution_count": 40,
     "metadata": {},
     "output_type": "execute_result"
    }
   ],
   "source": [
    "# Exercise 23: Null Dropping\n",
    "\"\"\"\n",
    "Remove all rows with null values from numeric_with_nan\n",
    "Your code here:\n",
    "\"\"\""
   ]
  },
  {
   "cell_type": "code",
   "execution_count": 41,
   "id": "2551e59f-e311-4e88-8cab-195c0e6ac3e5",
   "metadata": {},
   "outputs": [
    {
     "data": {
      "text/plain": [
       "'\\nCalculate mean and the median of sales_data\\nYour code here:\\n'"
      ]
     },
     "execution_count": 41,
     "metadata": {},
     "output_type": "execute_result"
    }
   ],
   "source": [
    "# Exercise 24: Basic Statistics\n",
    "\"\"\"\n",
    "Calculate mean and the median of sales_data\n",
    "Your code here:\n",
    "\"\"\""
   ]
  },
  {
   "cell_type": "code",
   "execution_count": 42,
   "id": "91ad9ca7-a564-4119-8f6d-7d8321a396ba",
   "metadata": {},
   "outputs": [
    {
     "data": {
      "text/plain": [
       "'\\nCalculate the range (max - min) of sales_data\\nYour code here:\\n'"
      ]
     },
     "execution_count": 42,
     "metadata": {},
     "output_type": "execute_result"
    }
   ],
   "source": [
    "# Exercise 25: Custom Aggregation\n",
    "\"\"\"\n",
    "Calculate the range (max - min) of sales_data\n",
    "Your code here:\n",
    "\"\"\""
   ]
  },
  {
   "cell_type": "code",
   "execution_count": 43,
   "id": "ed201271-9a1d-488c-8dd7-c20b7c08cc3b",
   "metadata": {},
   "outputs": [
    {
     "data": {
      "text/plain": [
       "\"\\nGroup sales_data by whether they're above or below mean and get group averages\\nYour code here:\\n\""
      ]
     },
     "execution_count": 43,
     "metadata": {},
     "output_type": "execute_result"
    }
   ],
   "source": [
    "# Exercise 26: Group Statistics\n",
    "\"\"\"\n",
    "Group sales_data by whether they're above or below mean and get group averages\n",
    "Your code here:\n",
    "\"\"\""
   ]
  },
  {
   "cell_type": "code",
   "execution_count": 44,
   "id": "d0f7d9d1-6af7-4e69-844e-049205260207",
   "metadata": {},
   "outputs": [
    {
     "data": {
      "text/plain": [
       "\"\\nFind all names that contain 'el' in the names series\\nYour code here:\\n\""
      ]
     },
     "execution_count": 44,
     "metadata": {},
     "output_type": "execute_result"
    }
   ],
   "source": [
    "# Exercise 27: Pattern Matching\n",
    "\"\"\"\n",
    "Find all names that contain 'el' in the names series\n",
    "Your code here:\n",
    "\"\"\""
   ]
  },
  {
   "cell_type": "code",
   "execution_count": 46,
   "id": "5867e966-5ff3-48cc-a193-d1c276527eba",
   "metadata": {},
   "outputs": [
    {
     "data": {
      "text/plain": [
       "\"\\nAdd '_sales' suffix to all values in names series\\nYour code here:\\n\""
      ]
     },
     "execution_count": 46,
     "metadata": {},
     "output_type": "execute_result"
    }
   ],
   "source": [
    "# Exercise 28: String Concatenation\n",
    "\"\"\"\n",
    "Add '_sales' suffix to all values in names series\n",
    "Your code here:\n",
    "\"\"\""
   ]
  },
  {
   "cell_type": "code",
   "execution_count": 48,
   "id": "35168456-66fe-4820-8266-061465bd5d9d",
   "metadata": {},
   "outputs": [
    {
     "data": {
      "text/plain": [
       "'\\nCreate a series that shows the first letter and length of each name (e.g., \"e_5\" for \"enosh\")\\nYour code here:\\n'"
      ]
     },
     "execution_count": 48,
     "metadata": {},
     "output_type": "execute_result"
    }
   ],
   "source": [
    "# Exercise 29: Complex String Operation\n",
    "\"\"\"\n",
    "Create a series that shows the first letter and length of each name (e.g., \"e_5\" for \"enosh\")\n",
    "Your code here:\n",
    "\"\"\""
   ]
  },
  {
   "cell_type": "code",
   "execution_count": null,
   "id": "a17d2059-7d80-4e2d-b288-4fa6d269d3c6",
   "metadata": {},
   "outputs": [],
   "source": []
  }
 ],
 "metadata": {
  "kernelspec": {
   "display_name": "Python 3 (ipykernel)",
   "language": "python",
   "name": "python3"
  },
  "language_info": {
   "codemirror_mode": {
    "name": "ipython",
    "version": 3
   },
   "file_extension": ".py",
   "mimetype": "text/x-python",
   "name": "python",
   "nbconvert_exporter": "python",
   "pygments_lexer": "ipython3",
   "version": "3.11.6"
  }
 },
 "nbformat": 4,
 "nbformat_minor": 5
}
