{
 "cells": [
  {
   "cell_type": "code",
   "execution_count": 3,
   "id": "05f7e4a1-0420-4486-b956-181631ebd8b3",
   "metadata": {},
   "outputs": [],
   "source": [
    "import pandas as pd\n",
    "import numpy as np"
   ]
  },
  {
   "cell_type": "code",
   "execution_count": 2,
   "id": "491d61cb-a5fe-447a-9810-2580afb6c272",
   "metadata": {},
   "outputs": [
    {
     "data": {
      "text/plain": [
       "0      0\n",
       "1      5\n",
       "2    100\n",
       "3     12\n",
       "4     45\n",
       "5     90\n",
       "6     12\n",
       "Name: Sales, dtype: int64"
      ]
     },
     "execution_count": 2,
     "metadata": {},
     "output_type": "execute_result"
    }
   ],
   "source": [
    "sales = [0, 5, 100,12, 45, 90, 12]\n",
    "sales_series = pd.Series(sales, name=\"Sales\")\n",
    "sales_series"
   ]
  },
  {
   "cell_type": "code",
   "execution_count": 5,
   "id": "5c156ca1-f321-4533-8fac-a4b1380c3527",
   "metadata": {},
   "outputs": [
    {
     "data": {
      "text/plain": [
       "RangeIndex(start=0, stop=7, step=1)"
      ]
     },
     "execution_count": 5,
     "metadata": {},
     "output_type": "execute_result"
    }
   ],
   "source": [
    "sales_series.index"
   ]
  },
  {
   "cell_type": "code",
   "execution_count": 7,
   "id": "bb26f0c4-109e-4fa3-beca-da4a7092f29c",
   "metadata": {},
   "outputs": [
    {
     "data": {
      "text/plain": [
       "array([  0,   5, 100,  12,  45,  90,  12])"
      ]
     },
     "execution_count": 7,
     "metadata": {},
     "output_type": "execute_result"
    }
   ],
   "source": [
    "sales_series.values"
   ]
  },
  {
   "cell_type": "code",
   "execution_count": 8,
   "id": "9ce1beea-4978-4ebd-a7cd-948d9d5a8ee6",
   "metadata": {},
   "outputs": [
    {
     "data": {
      "text/plain": [
       "'Sales'"
      ]
     },
     "execution_count": 8,
     "metadata": {},
     "output_type": "execute_result"
    }
   ],
   "source": [
    "sales_series.name"
   ]
  },
  {
   "cell_type": "code",
   "execution_count": 9,
   "id": "9c51602e-d71c-4db5-962e-d6b6c27c5c0d",
   "metadata": {},
   "outputs": [
    {
     "data": {
      "text/plain": [
       "dtype('int64')"
      ]
     },
     "execution_count": 9,
     "metadata": {},
     "output_type": "execute_result"
    }
   ],
   "source": [
    "sales_series.dtype"
   ]
  },
  {
   "cell_type": "code",
   "execution_count": 10,
   "id": "2f41aa29-32f9-4c76-aa91-3b40d64db4d5",
   "metadata": {},
   "outputs": [
    {
     "data": {
      "text/plain": [
       "100"
      ]
     },
     "execution_count": 10,
     "metadata": {},
     "output_type": "execute_result"
    }
   ],
   "source": [
    "sales_series.values.max()"
   ]
  },
  {
   "cell_type": "code",
   "execution_count": 11,
   "id": "0503f194-2a70-4a49-bcc0-de235893a9d9",
   "metadata": {},
   "outputs": [
    {
     "data": {
      "text/plain": [
       "100"
      ]
     },
     "execution_count": 11,
     "metadata": {},
     "output_type": "execute_result"
    }
   ],
   "source": [
    "sales_series.max()"
   ]
  },
  {
   "cell_type": "code",
   "execution_count": 14,
   "id": "38737378-34b7-4f65-be2f-fb7519580dd9",
   "metadata": {},
   "outputs": [
    {
     "data": {
      "text/plain": [
       "10      0\n",
       "20      5\n",
       "30    100\n",
       "40     12\n",
       "50     45\n",
       "60     90\n",
       "70     12\n",
       "Name: Sales, dtype: int64"
      ]
     },
     "execution_count": 14,
     "metadata": {},
     "output_type": "execute_result"
    }
   ],
   "source": [
    "sales_series.index = [10, 20, 30, 40, 50, 60, 70]\n",
    "sales_series"
   ]
  },
  {
   "cell_type": "code",
   "execution_count": 17,
   "id": "a94cbc5d-f659-4ef6-9ea6-d36b964844fe",
   "metadata": {},
   "outputs": [
    {
     "data": {
      "text/plain": [
       "one        0\n",
       "two        5\n",
       "three    100\n",
       "four      12\n",
       "five      45\n",
       "six       90\n",
       "seven     12\n",
       "Name: Sales, dtype: int64"
      ]
     },
     "execution_count": 17,
     "metadata": {},
     "output_type": "execute_result"
    }
   ],
   "source": [
    "sales_series.index = ['one', 'two', 'three', 'four', 'five', 'six', 'seven']\n",
    "sales_series"
   ]
  },
  {
   "cell_type": "code",
   "execution_count": 19,
   "id": "ef35d9dc-80e1-4a8c-96b5-249a011c8c09",
   "metadata": {},
   "outputs": [
    {
     "data": {
      "text/plain": [
       "5"
      ]
     },
     "execution_count": 19,
     "metadata": {},
     "output_type": "execute_result"
    }
   ],
   "source": [
    "sales_series['two']"
   ]
  },
  {
   "cell_type": "code",
   "execution_count": 25,
   "id": "41e8cb2e-380b-4415-9080-31a9c5c5fb7b",
   "metadata": {},
   "outputs": [
    {
     "data": {
      "text/plain": [
       "one        0\n",
       "two        5\n",
       "three    100\n",
       "four      12\n",
       "five      45\n",
       "six       90\n",
       "seven     12\n",
       "Name: Sales, dtype: string"
      ]
     },
     "execution_count": 25,
     "metadata": {},
     "output_type": "execute_result"
    }
   ],
   "source": [
    "sales_series.astype(\"string\")"
   ]
  },
  {
   "cell_type": "code",
   "execution_count": 23,
   "id": "4bd4deaa-3c35-4c45-b0d3-aa100183c040",
   "metadata": {},
   "outputs": [
    {
     "data": {
      "text/plain": [
       "one      False\n",
       "two       True\n",
       "three     True\n",
       "four      True\n",
       "five      True\n",
       "six       True\n",
       "seven     True\n",
       "Name: Sales, dtype: bool"
      ]
     },
     "execution_count": 23,
     "metadata": {},
     "output_type": "execute_result"
    }
   ],
   "source": [
    "sales_series.astype(\"bool\")"
   ]
  },
  {
   "cell_type": "code",
   "execution_count": 24,
   "id": "0c997417-7c05-49c0-bb0a-e01fe5adb5ef",
   "metadata": {},
   "outputs": [
    {
     "data": {
      "text/plain": [
       "one        0.0\n",
       "two        5.0\n",
       "three    100.0\n",
       "four      12.0\n",
       "five      45.0\n",
       "six       90.0\n",
       "seven     12.0\n",
       "Name: Sales, dtype: float64"
      ]
     },
     "execution_count": 24,
     "metadata": {},
     "output_type": "execute_result"
    }
   ],
   "source": [
    "sales_series.astype(\"float\")"
   ]
  },
  {
   "cell_type": "code",
   "execution_count": null,
   "id": "66b500ab-358f-499a-b065-4f8de1ac84b4",
   "metadata": {},
   "outputs": [],
   "source": [
    "url = 'https://raw.githubusercontent.com/justmarkham/DAT8/master/data/chipotle.tsv'\n",
    "data = pd.read_csv(url, sep = '\\t')\n",
    "data"
   ]
  }
 ],
 "metadata": {
  "kernelspec": {
   "display_name": "Python 3 (ipykernel)",
   "language": "python",
   "name": "python3"
  },
  "language_info": {
   "codemirror_mode": {
    "name": "ipython",
    "version": 3
   },
   "file_extension": ".py",
   "mimetype": "text/x-python",
   "name": "python",
   "nbconvert_exporter": "python",
   "pygments_lexer": "ipython3",
   "version": "3.11.6"
  }
 },
 "nbformat": 4,
 "nbformat_minor": 5
}
