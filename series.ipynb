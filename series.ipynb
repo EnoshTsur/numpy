{
 "cells": [
  {
   "cell_type": "code",
   "execution_count": 3,
   "id": "05f7e4a1-0420-4486-b956-181631ebd8b3",
   "metadata": {},
   "outputs": [],
   "source": [
    "import pandas as pd\n",
    "import numpy as np"
   ]
  },
  {
   "cell_type": "code",
   "execution_count": 36,
   "id": "491d61cb-a5fe-447a-9810-2580afb6c272",
   "metadata": {},
   "outputs": [
    {
     "data": {
      "text/plain": [
       "0      0\n",
       "1      5\n",
       "2    100\n",
       "3     12\n",
       "4     45\n",
       "5     90\n",
       "6     12\n",
       "Name: Sales, dtype: int64"
      ]
     },
     "execution_count": 36,
     "metadata": {},
     "output_type": "execute_result"
    }
   ],
   "source": [
    "sales = [0, 5, 100,12, 45, 90, 12]\n",
    "sales_series = pd.Series(sales, name=\"Sales\")\n",
    "sales_series"
   ]
  },
  {
   "cell_type": "code",
   "execution_count": 38,
   "id": "c114afdb-349f-48a7-aa9c-5a46d0b7cf62",
   "metadata": {},
   "outputs": [
    {
     "data": {
      "text/plain": [
       "2    100\n",
       "3     12\n",
       "Name: Sales, dtype: int64"
      ]
     },
     "execution_count": 38,
     "metadata": {},
     "output_type": "execute_result"
    }
   ],
   "source": [
    "sales_series[2:4]"
   ]
  },
  {
   "cell_type": "code",
   "execution_count": 5,
   "id": "5c156ca1-f321-4533-8fac-a4b1380c3527",
   "metadata": {},
   "outputs": [
    {
     "data": {
      "text/plain": [
       "RangeIndex(start=0, stop=7, step=1)"
      ]
     },
     "execution_count": 5,
     "metadata": {},
     "output_type": "execute_result"
    }
   ],
   "source": [
    "sales_series.index"
   ]
  },
  {
   "cell_type": "code",
   "execution_count": 7,
   "id": "bb26f0c4-109e-4fa3-beca-da4a7092f29c",
   "metadata": {},
   "outputs": [
    {
     "data": {
      "text/plain": [
       "array([  0,   5, 100,  12,  45,  90,  12])"
      ]
     },
     "execution_count": 7,
     "metadata": {},
     "output_type": "execute_result"
    }
   ],
   "source": [
    "sales_series.values"
   ]
  },
  {
   "cell_type": "code",
   "execution_count": 8,
   "id": "9ce1beea-4978-4ebd-a7cd-948d9d5a8ee6",
   "metadata": {},
   "outputs": [
    {
     "data": {
      "text/plain": [
       "'Sales'"
      ]
     },
     "execution_count": 8,
     "metadata": {},
     "output_type": "execute_result"
    }
   ],
   "source": [
    "sales_series.name"
   ]
  },
  {
   "cell_type": "code",
   "execution_count": 9,
   "id": "9c51602e-d71c-4db5-962e-d6b6c27c5c0d",
   "metadata": {},
   "outputs": [
    {
     "data": {
      "text/plain": [
       "dtype('int64')"
      ]
     },
     "execution_count": 9,
     "metadata": {},
     "output_type": "execute_result"
    }
   ],
   "source": [
    "sales_series.dtype"
   ]
  },
  {
   "cell_type": "code",
   "execution_count": 10,
   "id": "2f41aa29-32f9-4c76-aa91-3b40d64db4d5",
   "metadata": {},
   "outputs": [
    {
     "data": {
      "text/plain": [
       "100"
      ]
     },
     "execution_count": 10,
     "metadata": {},
     "output_type": "execute_result"
    }
   ],
   "source": [
    "sales_series.values.max()"
   ]
  },
  {
   "cell_type": "code",
   "execution_count": 11,
   "id": "0503f194-2a70-4a49-bcc0-de235893a9d9",
   "metadata": {},
   "outputs": [
    {
     "data": {
      "text/plain": [
       "100"
      ]
     },
     "execution_count": 11,
     "metadata": {},
     "output_type": "execute_result"
    }
   ],
   "source": [
    "sales_series.max()"
   ]
  },
  {
   "cell_type": "code",
   "execution_count": 14,
   "id": "38737378-34b7-4f65-be2f-fb7519580dd9",
   "metadata": {},
   "outputs": [
    {
     "data": {
      "text/plain": [
       "10      0\n",
       "20      5\n",
       "30    100\n",
       "40     12\n",
       "50     45\n",
       "60     90\n",
       "70     12\n",
       "Name: Sales, dtype: int64"
      ]
     },
     "execution_count": 14,
     "metadata": {},
     "output_type": "execute_result"
    }
   ],
   "source": [
    "sales_series.index = [10, 20, 30, 40, 50, 60, 70]\n",
    "sales_series"
   ]
  },
  {
   "cell_type": "code",
   "execution_count": 17,
   "id": "a94cbc5d-f659-4ef6-9ea6-d36b964844fe",
   "metadata": {},
   "outputs": [
    {
     "data": {
      "text/plain": [
       "one        0\n",
       "two        5\n",
       "three    100\n",
       "four      12\n",
       "five      45\n",
       "six       90\n",
       "seven     12\n",
       "Name: Sales, dtype: int64"
      ]
     },
     "execution_count": 17,
     "metadata": {},
     "output_type": "execute_result"
    }
   ],
   "source": [
    "sales_series.index = ['one', 'two', 'three', 'four', 'five', 'six', 'seven']\n",
    "sales_series"
   ]
  },
  {
   "cell_type": "code",
   "execution_count": 19,
   "id": "ef35d9dc-80e1-4a8c-96b5-249a011c8c09",
   "metadata": {},
   "outputs": [
    {
     "data": {
      "text/plain": [
       "5"
      ]
     },
     "execution_count": 19,
     "metadata": {},
     "output_type": "execute_result"
    }
   ],
   "source": [
    "sales_series['two']"
   ]
  },
  {
   "cell_type": "code",
   "execution_count": 33,
   "id": "e1c50129-1fe2-4eeb-805f-2d57d8fec3ac",
   "metadata": {},
   "outputs": [
    {
     "data": {
      "text/plain": [
       "two        5\n",
       "three    100\n",
       "four      12\n",
       "Name: Sales, dtype: int64"
      ]
     },
     "execution_count": 33,
     "metadata": {},
     "output_type": "execute_result"
    }
   ],
   "source": [
    "sales_series['two':'four']"
   ]
  },
  {
   "cell_type": "code",
   "execution_count": 34,
   "id": "edc4c4ae-ba6b-4a45-8e29-346233d45d67",
   "metadata": {},
   "outputs": [
    {
     "data": {
      "text/plain": [
       "cola       9.99\n",
       "sprite    10.50\n",
       "gum        2.99\n",
       "dtype: float64"
      ]
     },
     "execution_count": 34,
     "metadata": {},
     "output_type": "execute_result"
    }
   ],
   "source": [
    "products = pd.Series([9.99, 10.50, 2.99], index=['cola', 'sprite','gum'])\n",
    "products"
   ]
  },
  {
   "cell_type": "code",
   "execution_count": 25,
   "id": "41e8cb2e-380b-4415-9080-31a9c5c5fb7b",
   "metadata": {},
   "outputs": [
    {
     "data": {
      "text/plain": [
       "one        0\n",
       "two        5\n",
       "three    100\n",
       "four      12\n",
       "five      45\n",
       "six       90\n",
       "seven     12\n",
       "Name: Sales, dtype: string"
      ]
     },
     "execution_count": 25,
     "metadata": {},
     "output_type": "execute_result"
    }
   ],
   "source": [
    "sales_series.astype(\"string\")"
   ]
  },
  {
   "cell_type": "code",
   "execution_count": 23,
   "id": "4bd4deaa-3c35-4c45-b0d3-aa100183c040",
   "metadata": {},
   "outputs": [
    {
     "data": {
      "text/plain": [
       "one      False\n",
       "two       True\n",
       "three     True\n",
       "four      True\n",
       "five      True\n",
       "six       True\n",
       "seven     True\n",
       "Name: Sales, dtype: bool"
      ]
     },
     "execution_count": 23,
     "metadata": {},
     "output_type": "execute_result"
    }
   ],
   "source": [
    "sales_series.astype(\"bool\")"
   ]
  },
  {
   "cell_type": "code",
   "execution_count": 24,
   "id": "0c997417-7c05-49c0-bb0a-e01fe5adb5ef",
   "metadata": {},
   "outputs": [
    {
     "data": {
      "text/plain": [
       "one        0.0\n",
       "two        5.0\n",
       "three    100.0\n",
       "four      12.0\n",
       "five      45.0\n",
       "six       90.0\n",
       "seven     12.0\n",
       "Name: Sales, dtype: float64"
      ]
     },
     "execution_count": 24,
     "metadata": {},
     "output_type": "execute_result"
    }
   ],
   "source": [
    "sales_series.astype(\"float\")"
   ]
  },
  {
   "cell_type": "code",
   "execution_count": 32,
   "id": "66b500ab-358f-499a-b065-4f8de1ac84b4",
   "metadata": {},
   "outputs": [],
   "source": [
    "# url = 'https://raw.githubusercontent.com/justmarkham/DAT8/master/data/chipotle.tsv'\n",
    "# data = pd.read_csv(url, sep = '\\t')\n",
    "# data"
   ]
  },
  {
   "cell_type": "code",
   "execution_count": 44,
   "id": "8ad03740-d7df-4c82-862f-54f18f25305f",
   "metadata": {},
   "outputs": [
    {
     "data": {
      "text/plain": [
       "one      1\n",
       "two      2\n",
       "three    3\n",
       "dtype: int64"
      ]
     },
     "execution_count": 44,
     "metadata": {},
     "output_type": "execute_result"
    }
   ],
   "source": [
    "numbers = pd.Series(range(1,4), index=['one', 'two', 'three'])\n",
    "numbers"
   ]
  },
  {
   "cell_type": "code",
   "execution_count": 46,
   "id": "087821ab-5dc9-4cbb-abf2-e0aa1cc31058",
   "metadata": {},
   "outputs": [
    {
     "data": {
      "text/plain": [
       "1"
      ]
     },
     "execution_count": 46,
     "metadata": {},
     "output_type": "execute_result"
    }
   ],
   "source": [
    "numbers.iloc[0]"
   ]
  },
  {
   "cell_type": "code",
   "execution_count": 48,
   "id": "19d21341-ee64-40ed-8342-1417505fcc4e",
   "metadata": {},
   "outputs": [
    {
     "data": {
      "text/plain": [
       "two      2\n",
       "three    3\n",
       "dtype: int64"
      ]
     },
     "execution_count": 48,
     "metadata": {},
     "output_type": "execute_result"
    }
   ],
   "source": [
    "numbers.iloc[1:3]"
   ]
  },
  {
   "cell_type": "code",
   "execution_count": 49,
   "id": "79deae68-fd68-4c75-afc4-47fe356a123a",
   "metadata": {},
   "outputs": [
    {
     "data": {
      "text/plain": [
       "3"
      ]
     },
     "execution_count": 49,
     "metadata": {},
     "output_type": "execute_result"
    }
   ],
   "source": [
    "numbers.iloc[-1]"
   ]
  },
  {
   "cell_type": "code",
   "execution_count": 55,
   "id": "c6af87f4-3fd5-403d-9370-41758e1cedb3",
   "metadata": {},
   "outputs": [
    {
     "data": {
      "text/plain": [
       "one      1\n",
       "three    3\n",
       "dtype: int64"
      ]
     },
     "execution_count": 55,
     "metadata": {},
     "output_type": "execute_result"
    }
   ],
   "source": [
    "numbers.iloc[[0,2]]"
   ]
  },
  {
   "cell_type": "code",
   "execution_count": 56,
   "id": "f77b5655-da8c-40c7-989d-4bedf79d6ea1",
   "metadata": {},
   "outputs": [
    {
     "data": {
      "text/plain": [
       "1"
      ]
     },
     "execution_count": 56,
     "metadata": {},
     "output_type": "execute_result"
    }
   ],
   "source": [
    "numbers.loc['one']"
   ]
  },
  {
   "cell_type": "code",
   "execution_count": 57,
   "id": "8cb8a204-6770-4e53-9c43-d2336c55598a",
   "metadata": {},
   "outputs": [
    {
     "data": {
      "text/plain": [
       "two      2\n",
       "three    3\n",
       "dtype: int64"
      ]
     },
     "execution_count": 57,
     "metadata": {},
     "output_type": "execute_result"
    }
   ],
   "source": [
    "numbers.loc['two':'three']"
   ]
  },
  {
   "cell_type": "code",
   "execution_count": 58,
   "id": "227b7e47-318f-46f4-90c7-ebeb9388f415",
   "metadata": {},
   "outputs": [
    {
     "data": {
      "text/plain": [
       "one      1\n",
       "three    3\n",
       "dtype: int64"
      ]
     },
     "execution_count": 58,
     "metadata": {},
     "output_type": "execute_result"
    }
   ],
   "source": [
    "numbers.loc[['one', 'three']]"
   ]
  },
  {
   "cell_type": "code",
   "execution_count": 59,
   "id": "fe1062e1-562b-42d9-b6a5-4b591e70b988",
   "metadata": {},
   "outputs": [
    {
     "data": {
      "text/plain": [
       "1      0\n",
       "102    1\n",
       "50     2\n",
       "3      3\n",
       "5      4\n",
       "dtype: int64"
      ]
     },
     "execution_count": 59,
     "metadata": {},
     "output_type": "execute_result"
    }
   ],
   "source": [
    "number_index = pd.Series(range(5), index=[1, 102, 50, 3, 5])\n",
    "number_index"
   ]
  },
  {
   "cell_type": "code",
   "execution_count": 61,
   "id": "51d32e34-28ac-4210-a65c-d918021cc061",
   "metadata": {},
   "outputs": [
    {
     "data": {
      "text/plain": [
       "1      0\n",
       "102    1\n",
       "50     2\n",
       "3      3\n",
       "5      4\n",
       "dtype: int64"
      ]
     },
     "execution_count": 61,
     "metadata": {},
     "output_type": "execute_result"
    }
   ],
   "source": [
    "number_index.loc[1:5]"
   ]
  },
  {
   "cell_type": "code",
   "execution_count": 63,
   "id": "8a370b95-d7ec-490f-ae25-19a165fd6b10",
   "metadata": {},
   "outputs": [
    {
     "data": {
      "text/plain": [
       "102    1\n",
       "50     2\n",
       "3      3\n",
       "dtype: int64"
      ]
     },
     "execution_count": 63,
     "metadata": {},
     "output_type": "execute_result"
    }
   ],
   "source": [
    "number_index.loc[102:3]"
   ]
  },
  {
   "cell_type": "code",
   "execution_count": 65,
   "id": "464bad7d-c06a-4652-a0fe-23f87ba90bd8",
   "metadata": {},
   "outputs": [
    {
     "data": {
      "text/html": [
       "<div>\n",
       "<style scoped>\n",
       "    .dataframe tbody tr th:only-of-type {\n",
       "        vertical-align: middle;\n",
       "    }\n",
       "\n",
       "    .dataframe tbody tr th {\n",
       "        vertical-align: top;\n",
       "    }\n",
       "\n",
       "    .dataframe thead th {\n",
       "        text-align: right;\n",
       "    }\n",
       "</style>\n",
       "<table border=\"1\" class=\"dataframe\">\n",
       "  <thead>\n",
       "    <tr style=\"text-align: right;\">\n",
       "      <th></th>\n",
       "      <th>index</th>\n",
       "      <th>0</th>\n",
       "    </tr>\n",
       "  </thead>\n",
       "  <tbody>\n",
       "    <tr>\n",
       "      <th>0</th>\n",
       "      <td>1</td>\n",
       "      <td>0</td>\n",
       "    </tr>\n",
       "    <tr>\n",
       "      <th>1</th>\n",
       "      <td>102</td>\n",
       "      <td>1</td>\n",
       "    </tr>\n",
       "    <tr>\n",
       "      <th>2</th>\n",
       "      <td>50</td>\n",
       "      <td>2</td>\n",
       "    </tr>\n",
       "    <tr>\n",
       "      <th>3</th>\n",
       "      <td>3</td>\n",
       "      <td>3</td>\n",
       "    </tr>\n",
       "    <tr>\n",
       "      <th>4</th>\n",
       "      <td>5</td>\n",
       "      <td>4</td>\n",
       "    </tr>\n",
       "  </tbody>\n",
       "</table>\n",
       "</div>"
      ],
      "text/plain": [
       "   index  0\n",
       "0      1  0\n",
       "1    102  1\n",
       "2     50  2\n",
       "3      3  3\n",
       "4      5  4"
      ]
     },
     "execution_count": 65,
     "metadata": {},
     "output_type": "execute_result"
    }
   ],
   "source": [
    "number_index.reset_index()"
   ]
  },
  {
   "cell_type": "code",
   "execution_count": 66,
   "id": "dc1ed6b8-9daa-41c4-b84a-177051d7aa4f",
   "metadata": {},
   "outputs": [
    {
     "data": {
      "text/plain": [
       "0    0\n",
       "1    1\n",
       "2    2\n",
       "3    3\n",
       "4    4\n",
       "dtype: int64"
      ]
     },
     "execution_count": 66,
     "metadata": {},
     "output_type": "execute_result"
    }
   ],
   "source": [
    "number_index.reset_index(drop=True)"
   ]
  },
  {
   "cell_type": "code",
   "execution_count": 67,
   "id": "ce72f011-e041-4905-8ba4-784ab97c4547",
   "metadata": {},
   "outputs": [
    {
     "data": {
      "text/plain": [
       "1    1\n",
       "2    2\n",
       "3    3\n",
       "dtype: int64"
      ]
     },
     "execution_count": 67,
     "metadata": {},
     "output_type": "execute_result"
    }
   ],
   "source": [
    "number_index.reset_index(drop=True).loc[1:3]"
   ]
  },
  {
   "cell_type": "code",
   "execution_count": 68,
   "id": "ae76f616-642d-4a46-8b30-15fc687b8d7d",
   "metadata": {},
   "outputs": [
    {
     "data": {
      "text/plain": [
       "0      0\n",
       "1      5\n",
       "2    100\n",
       "3     12\n",
       "4     45\n",
       "5     90\n",
       "6     12\n",
       "Name: Sales, dtype: int64"
      ]
     },
     "execution_count": 68,
     "metadata": {},
     "output_type": "execute_result"
    }
   ],
   "source": [
    "sales_series"
   ]
  },
  {
   "cell_type": "code",
   "execution_count": 69,
   "id": "a98ffed7-0a32-4617-b0d0-4e81dd947b72",
   "metadata": {},
   "outputs": [
    {
     "data": {
      "text/plain": [
       "2    100\n",
       "4     45\n",
       "5     90\n",
       "Name: Sales, dtype: int64"
      ]
     },
     "execution_count": 69,
     "metadata": {},
     "output_type": "execute_result"
    }
   ],
   "source": [
    "sales_series[sales_series > 40]"
   ]
  },
  {
   "cell_type": "code",
   "execution_count": 70,
   "id": "7a3f9231-d6a4-4e52-a105-056b5525415f",
   "metadata": {},
   "outputs": [
    {
     "data": {
      "text/plain": [
       "2    100\n",
       "4     45\n",
       "5     90\n",
       "Name: Sales, dtype: int64"
      ]
     },
     "execution_count": 70,
     "metadata": {},
     "output_type": "execute_result"
    }
   ],
   "source": [
    "sales_series[sales_series.gt(40)]"
   ]
  },
  {
   "cell_type": "code",
   "execution_count": 71,
   "id": "92468734-2af0-46fa-a1a0-95ddefd9b2d9",
   "metadata": {},
   "outputs": [
    {
     "data": {
      "text/plain": [
       "2    100\n",
       "Name: Sales, dtype: int64"
      ]
     },
     "execution_count": 71,
     "metadata": {},
     "output_type": "execute_result"
    }
   ],
   "source": [
    "sales_series[sales_series.eq(100)]"
   ]
  },
  {
   "cell_type": "code",
   "execution_count": 72,
   "id": "ddb9b117-f29e-4248-afe4-60656b3eb0a7",
   "metadata": {},
   "outputs": [
    {
     "data": {
      "text/plain": [
       "array([ True, False, False,  True, False, False,  True])"
      ]
     },
     "execution_count": 72,
     "metadata": {},
     "output_type": "execute_result"
    }
   ],
   "source": [
    "sales_series.index.isin([0, 3, 6])"
   ]
  },
  {
   "cell_type": "code",
   "execution_count": 73,
   "id": "b0efd572-7ff7-437f-be99-9a5798016b96",
   "metadata": {},
   "outputs": [
    {
     "data": {
      "text/plain": [
       "0     0\n",
       "3    12\n",
       "6    12\n",
       "Name: Sales, dtype: int64"
      ]
     },
     "execution_count": 73,
     "metadata": {},
     "output_type": "execute_result"
    }
   ],
   "source": [
    "sales_series[sales_series.index.isin([0, 3, 6])]"
   ]
  },
  {
   "cell_type": "code",
   "execution_count": 74,
   "id": "9d29b8d1-4e71-46b4-855e-c7f6bdb53134",
   "metadata": {},
   "outputs": [
    {
     "data": {
      "text/plain": [
       "1      5\n",
       "2    100\n",
       "4     45\n",
       "5     90\n",
       "Name: Sales, dtype: int64"
      ]
     },
     "execution_count": 74,
     "metadata": {},
     "output_type": "execute_result"
    }
   ],
   "source": [
    "sales_series[~sales_series.index.isin([0, 3, 6])]"
   ]
  },
  {
   "cell_type": "code",
   "execution_count": 75,
   "id": "d96d8378-8b92-4903-b955-2e866abedf0e",
   "metadata": {},
   "outputs": [
    {
     "data": {
      "text/plain": [
       "2    100\n",
       "4     45\n",
       "Name: Sales, dtype: int64"
      ]
     },
     "execution_count": 75,
     "metadata": {},
     "output_type": "execute_result"
    }
   ],
   "source": [
    "sales_series[sales_series.isin([100, 45])]"
   ]
  },
  {
   "cell_type": "code",
   "execution_count": 76,
   "id": "f3a1e259-6aab-4023-98f3-e69d7ce5379b",
   "metadata": {},
   "outputs": [
    {
     "data": {
      "text/plain": [
       "0     0\n",
       "1     5\n",
       "3    12\n",
       "4    45\n",
       "5    90\n",
       "6    12\n",
       "Name: Sales, dtype: int64"
      ]
     },
     "execution_count": 76,
     "metadata": {},
     "output_type": "execute_result"
    }
   ],
   "source": [
    "sales_series[~sales_series.eq(100)]"
   ]
  },
  {
   "cell_type": "code",
   "execution_count": 77,
   "id": "86c9a42b-a60a-49f8-ba70-a2a17d09c7ab",
   "metadata": {},
   "outputs": [
    {
     "data": {
      "text/plain": [
       "0      0\n",
       "1      5\n",
       "3     12\n",
       "6     12\n",
       "4     45\n",
       "5     90\n",
       "2    100\n",
       "Name: Sales, dtype: int64"
      ]
     },
     "execution_count": 77,
     "metadata": {},
     "output_type": "execute_result"
    }
   ],
   "source": [
    "sales_series.sort_values()"
   ]
  },
  {
   "cell_type": "code",
   "execution_count": 78,
   "id": "41569149-2158-4464-ad3f-4db538088663",
   "metadata": {},
   "outputs": [
    {
     "data": {
      "text/plain": [
       "0      0\n",
       "1      5\n",
       "2    100\n",
       "3     12\n",
       "4     45\n",
       "5     90\n",
       "6     12\n",
       "Name: Sales, dtype: int64"
      ]
     },
     "execution_count": 78,
     "metadata": {},
     "output_type": "execute_result"
    }
   ],
   "source": [
    "sales_series.sort_index()"
   ]
  },
  {
   "cell_type": "code",
   "execution_count": 79,
   "id": "7d509007-e487-497e-85a9-1cdee84df07b",
   "metadata": {},
   "outputs": [
    {
     "data": {
      "text/plain": [
       "6     12\n",
       "5     90\n",
       "4     45\n",
       "3     12\n",
       "2    100\n",
       "1      5\n",
       "0      0\n",
       "Name: Sales, dtype: int64"
      ]
     },
     "execution_count": 79,
     "metadata": {},
     "output_type": "execute_result"
    }
   ],
   "source": [
    "sales_series.sort_index(ascending=False)"
   ]
  },
  {
   "cell_type": "code",
   "execution_count": 80,
   "id": "50933b7b-9d55-44aa-bbb1-0de5e800af9e",
   "metadata": {},
   "outputs": [
    {
     "data": {
      "text/plain": [
       "2    100\n",
       "5     90\n",
       "4     45\n",
       "3     12\n",
       "6     12\n",
       "1      5\n",
       "0      0\n",
       "Name: Sales, dtype: int64"
      ]
     },
     "execution_count": 80,
     "metadata": {},
     "output_type": "execute_result"
    }
   ],
   "source": [
    "sales_series.sort_values(ascending=False)"
   ]
  },
  {
   "cell_type": "code",
   "execution_count": 81,
   "id": "70d0664b-ba88-4df5-9318-0e50cedd4918",
   "metadata": {},
   "outputs": [
    {
     "data": {
      "text/plain": [
       "37.714285714285715"
      ]
     },
     "execution_count": 81,
     "metadata": {},
     "output_type": "execute_result"
    }
   ],
   "source": [
    "sales_series.mean()"
   ]
  },
  {
   "cell_type": "code",
   "execution_count": 82,
   "id": "018519d5-c839-4cd1-bfe9-64c263de1270",
   "metadata": {},
   "outputs": [
    {
     "data": {
      "text/plain": [
       "100"
      ]
     },
     "execution_count": 82,
     "metadata": {},
     "output_type": "execute_result"
    }
   ],
   "source": [
    "sales_series.max()"
   ]
  },
  {
   "cell_type": "code",
   "execution_count": 83,
   "id": "2ff739a8-4f88-4f32-8bb8-e9a34f42f9bd",
   "metadata": {},
   "outputs": [
    {
     "data": {
      "text/plain": [
       "0"
      ]
     },
     "execution_count": 83,
     "metadata": {},
     "output_type": "execute_result"
    }
   ],
   "source": [
    "sales_series.min()"
   ]
  },
  {
   "cell_type": "code",
   "execution_count": 84,
   "id": "f781a277-48fb-480d-8e8b-0e087fcd5624",
   "metadata": {},
   "outputs": [
    {
     "data": {
      "text/plain": [
       "7"
      ]
     },
     "execution_count": 84,
     "metadata": {},
     "output_type": "execute_result"
    }
   ],
   "source": [
    "sales_series.count()"
   ]
  },
  {
   "cell_type": "code",
   "execution_count": 85,
   "id": "6be4e173-fefc-4f09-aaa4-ca11452d976f",
   "metadata": {},
   "outputs": [
    {
     "data": {
      "text/plain": [
       "0    1000\n",
       "1    1005\n",
       "2    1100\n",
       "3    1012\n",
       "4    1045\n",
       "5    1090\n",
       "6    1012\n",
       "Name: Sales, dtype: int64"
      ]
     },
     "execution_count": 85,
     "metadata": {},
     "output_type": "execute_result"
    }
   ],
   "source": [
    "sales_series.add(1000)"
   ]
  },
  {
   "cell_type": "code",
   "execution_count": 86,
   "id": "1cdb7e4c-43e8-4054-9156-25116d77d508",
   "metadata": {},
   "outputs": [
    {
     "data": {
      "text/plain": [
       "0         0\n",
       "1      5000\n",
       "2    100000\n",
       "3     12000\n",
       "4     45000\n",
       "5     90000\n",
       "6     12000\n",
       "Name: Sales, dtype: int64"
      ]
     },
     "execution_count": 86,
     "metadata": {},
     "output_type": "execute_result"
    }
   ],
   "source": [
    "sales_series.mul(1000)"
   ]
  },
  {
   "cell_type": "code",
   "execution_count": 87,
   "id": "54bee7e7-8bc9-42e7-b31a-91bc71e05fc3",
   "metadata": {},
   "outputs": [
    {
     "data": {
      "text/plain": [
       "0   -100\n",
       "1    -95\n",
       "2      0\n",
       "3    -88\n",
       "4    -55\n",
       "5    -10\n",
       "6    -88\n",
       "Name: Sales, dtype: int64"
      ]
     },
     "execution_count": 87,
     "metadata": {},
     "output_type": "execute_result"
    }
   ],
   "source": [
    "sales_series.sub(100)"
   ]
  },
  {
   "cell_type": "code",
   "execution_count": 88,
   "id": "e4224e43-0cc7-4e07-858e-6081b7faa95f",
   "metadata": {},
   "outputs": [
    {
     "data": {
      "text/plain": [
       "0          0\n",
       "1        125\n",
       "2    1000000\n",
       "3       1728\n",
       "4      91125\n",
       "5     729000\n",
       "6       1728\n",
       "Name: Sales, dtype: int64"
      ]
     },
     "execution_count": 88,
     "metadata": {},
     "output_type": "execute_result"
    }
   ],
   "source": [
    "sales_series.pow(3)"
   ]
  },
  {
   "cell_type": "code",
   "execution_count": 89,
   "id": "5490970b-2602-48df-b5da-34636a73e9f7",
   "metadata": {},
   "outputs": [
    {
     "data": {
      "text/plain": [
       "0    0\n",
       "1    1\n",
       "2    0\n",
       "3    0\n",
       "4    1\n",
       "5    0\n",
       "6    0\n",
       "Name: Sales, dtype: int64"
      ]
     },
     "execution_count": 89,
     "metadata": {},
     "output_type": "execute_result"
    }
   ],
   "source": [
    "sales_series.mod(2)"
   ]
  },
  {
   "cell_type": "code",
   "execution_count": 90,
   "id": "f0b75aa4-8df0-4b9f-b8da-94577c09ddbf",
   "metadata": {},
   "outputs": [
    {
     "data": {
      "text/plain": [
       "0     0.0\n",
       "1     2.5\n",
       "2    50.0\n",
       "3     6.0\n",
       "4    22.5\n",
       "5    45.0\n",
       "6     6.0\n",
       "Name: Sales, dtype: float64"
      ]
     },
     "execution_count": 90,
     "metadata": {},
     "output_type": "execute_result"
    }
   ],
   "source": [
    "sales_series.div(2)"
   ]
  },
  {
   "cell_type": "code",
   "execution_count": 93,
   "id": "8a0b45eb-d6d6-47ae-9553-4b18748378cf",
   "metadata": {},
   "outputs": [
    {
     "data": {
      "text/plain": [
       "0     3.0\n",
       "1     NaN\n",
       "2    10.0\n",
       "3    90.0\n",
       "4     NaN\n",
       "dtype: float64"
      ]
     },
     "execution_count": 93,
     "metadata": {},
     "output_type": "execute_result"
    }
   ],
   "source": [
    "x = pd.Series([3, np.NaN, 10, 90, np.NaN ])\n",
    "x"
   ]
  },
  {
   "cell_type": "code",
   "execution_count": 94,
   "id": "f85b1a72-cea3-49c7-8229-d76db8d59d93",
   "metadata": {},
   "outputs": [
    {
     "data": {
      "text/plain": [
       "0    1003.0\n",
       "1    1000.0\n",
       "2    1010.0\n",
       "3    1090.0\n",
       "4    1000.0\n",
       "dtype: float64"
      ]
     },
     "execution_count": 94,
     "metadata": {},
     "output_type": "execute_result"
    }
   ],
   "source": [
    "x.add(1000, fill_value=0)"
   ]
  },
  {
   "cell_type": "code",
   "execution_count": 96,
   "id": "230d69a6-2307-4137-8c11-69f907433ffb",
   "metadata": {},
   "outputs": [
    {
     "data": {
      "text/plain": [
       "0      6000.0\n",
       "1      2000.0\n",
       "2     20000.0\n",
       "3    180000.0\n",
       "4      2000.0\n",
       "dtype: float64"
      ]
     },
     "execution_count": 96,
     "metadata": {},
     "output_type": "execute_result"
    }
   ],
   "source": [
    "x.mul(2000, fill_value=1)"
   ]
  },
  {
   "cell_type": "code",
   "execution_count": 126,
   "id": "688f9f21-e714-4ee9-a3b2-3a506e61f976",
   "metadata": {},
   "outputs": [
    {
     "data": {
      "text/plain": [
       "0      enosh\n",
       "1    matanel\n",
       "2    matanel\n",
       "3       alef\n",
       "4      yossi\n",
       "5       elad\n",
       "dtype: object"
      ]
     },
     "execution_count": 126,
     "metadata": {},
     "output_type": "execute_result"
    }
   ],
   "source": [
    "names = pd.Series(['enosh', 'matanel', 'matanel', 'alef', 'yossi', 'elad'])\n",
    "names"
   ]
  },
  {
   "cell_type": "markdown",
   "id": "c6ce0dba-96b4-472b-a455-3d8a14735ec3",
   "metadata": {},
   "source": []
  },
  {
   "cell_type": "code",
   "execution_count": 99,
   "id": "442048cd-ffa1-46f7-b11e-c9a7c6058203",
   "metadata": {},
   "outputs": [
    {
     "data": {
      "text/plain": [
       "0      ENOSH\n",
       "1    MATANEL\n",
       "2       ALEF\n",
       "3      YOSSI\n",
       "4       ELAD\n",
       "dtype: object"
      ]
     },
     "execution_count": 99,
     "metadata": {},
     "output_type": "execute_result"
    }
   ],
   "source": [
    "names.str.upper()"
   ]
  },
  {
   "cell_type": "code",
   "execution_count": 100,
   "id": "b292cdeb-bbbf-4a59-a0f6-7756fe41b18e",
   "metadata": {},
   "outputs": [
    {
     "data": {
      "text/plain": [
       "0      enosh\n",
       "1    matanel\n",
       "2       alef\n",
       "3      yossi\n",
       "4       elad\n",
       "dtype: object"
      ]
     },
     "execution_count": 100,
     "metadata": {},
     "output_type": "execute_result"
    }
   ],
   "source": [
    "names.str.lower()"
   ]
  },
  {
   "cell_type": "code",
   "execution_count": 103,
   "id": "417506dd-bff6-4f09-b925-0874be2dfe88",
   "metadata": {},
   "outputs": [
    {
     "data": {
      "text/plain": [
       "0      enosh\n",
       "1    matanel\n",
       "2       alef\n",
       "3      yossi\n",
       "4       elad\n",
       "dtype: object"
      ]
     },
     "execution_count": 103,
     "metadata": {},
     "output_type": "execute_result"
    }
   ],
   "source": [
    "names.str.strip()"
   ]
  },
  {
   "cell_type": "code",
   "execution_count": 106,
   "id": "5f57e80f-5191-47a4-904a-0d363fa024d9",
   "metadata": {},
   "outputs": [
    {
     "data": {
      "text/plain": [
       "0    no\n",
       "1    at\n",
       "2    le\n",
       "3    os\n",
       "4    la\n",
       "dtype: object"
      ]
     },
     "execution_count": 106,
     "metadata": {},
     "output_type": "execute_result"
    }
   ],
   "source": [
    "names.str.slice(1,3,1)"
   ]
  },
  {
   "cell_type": "code",
   "execution_count": 107,
   "id": "b86e9c7e-0648-4702-bc27-5952a85547d7",
   "metadata": {},
   "outputs": [
    {
     "data": {
      "text/plain": [
       "0    eoh\n",
       "1    mtn\n",
       "2     ae\n",
       "3    ysi\n",
       "4     ea\n",
       "dtype: object"
      ]
     },
     "execution_count": 107,
     "metadata": {},
     "output_type": "execute_result"
    }
   ],
   "source": [
    "names.str.slice(0, 5, 2)"
   ]
  },
  {
   "cell_type": "code",
   "execution_count": 108,
   "id": "5909b829-1179-467f-9c6d-1358ca99f456",
   "metadata": {},
   "outputs": [
    {
     "data": {
      "text/plain": [
       "0    en\n",
       "1    ma\n",
       "2    al\n",
       "3    yo\n",
       "4    el\n",
       "dtype: object"
      ]
     },
     "execution_count": 108,
     "metadata": {},
     "output_type": "execute_result"
    }
   ],
   "source": [
    "names.str.slice(0, 2)"
   ]
  },
  {
   "cell_type": "code",
   "execution_count": 109,
   "id": "fa22fb33-2ef8-4860-8df6-3f0c8a9b09b2",
   "metadata": {},
   "outputs": [
    {
     "data": {
      "text/plain": [
       "0      $nosh\n",
       "1    matan$l\n",
       "2       al$f\n",
       "3      yossi\n",
       "4       $lad\n",
       "dtype: object"
      ]
     },
     "execution_count": 109,
     "metadata": {},
     "output_type": "execute_result"
    }
   ],
   "source": [
    "names.str.replace('e', '$')"
   ]
  },
  {
   "cell_type": "code",
   "execution_count": 110,
   "id": "9f03d664-2d33-449c-a0ce-96f4c0172bca",
   "metadata": {},
   "outputs": [
    {
     "data": {
      "text/plain": [
       "0      [, nosh]\n",
       "1    [matan, l]\n",
       "2       [al, f]\n",
       "3       [yossi]\n",
       "4       [, lad]\n",
       "dtype: object"
      ]
     },
     "execution_count": 110,
     "metadata": {},
     "output_type": "execute_result"
    }
   ],
   "source": [
    "names.str.split('e')"
   ]
  },
  {
   "cell_type": "code",
   "execution_count": 111,
   "id": "4431596d-7c81-4141-abae-010c6448b376",
   "metadata": {},
   "outputs": [
    {
     "data": {
      "text/plain": [
       "0     True\n",
       "1    False\n",
       "2    False\n",
       "3    False\n",
       "4     True\n",
       "dtype: bool"
      ]
     },
     "execution_count": 111,
     "metadata": {},
     "output_type": "execute_result"
    }
   ],
   "source": [
    "names.str.startswith('e')"
   ]
  },
  {
   "cell_type": "code",
   "execution_count": 112,
   "id": "04662b26-af95-40c2-9409-a813073c3526",
   "metadata": {},
   "outputs": [
    {
     "data": {
      "text/plain": [
       "0    False\n",
       "1     True\n",
       "2    False\n",
       "3    False\n",
       "4    False\n",
       "dtype: bool"
      ]
     },
     "execution_count": 112,
     "metadata": {},
     "output_type": "execute_result"
    }
   ],
   "source": [
    "names.str.endswith('l')"
   ]
  },
  {
   "cell_type": "code",
   "execution_count": 113,
   "id": "00373026-16cf-4ee1-8b3a-6ae7eccf038e",
   "metadata": {},
   "outputs": [
    {
     "data": {
      "text/plain": [
       "0    5\n",
       "1    7\n",
       "2    4\n",
       "3    5\n",
       "4    4\n",
       "dtype: int64"
      ]
     },
     "execution_count": 113,
     "metadata": {},
     "output_type": "execute_result"
    }
   ],
   "source": [
    "names.str.len()"
   ]
  },
  {
   "cell_type": "code",
   "execution_count": 114,
   "id": "13c386a5-a169-4ac9-8222-9ef4f83b223a",
   "metadata": {},
   "outputs": [
    {
     "data": {
      "text/plain": [
       "0     True\n",
       "1     True\n",
       "2     True\n",
       "3    False\n",
       "4     True\n",
       "dtype: bool"
      ]
     },
     "execution_count": 114,
     "metadata": {},
     "output_type": "execute_result"
    }
   ],
   "source": [
    "names.str.contains('e')"
   ]
  },
  {
   "cell_type": "code",
   "execution_count": 115,
   "id": "39499547-7073-477a-9ed0-501d77d3d8f8",
   "metadata": {},
   "outputs": [
    {
     "data": {
      "text/plain": [
       "0      enosh\n",
       "1    matanel\n",
       "2       alef\n",
       "4       elad\n",
       "dtype: object"
      ]
     },
     "execution_count": 115,
     "metadata": {},
     "output_type": "execute_result"
    }
   ],
   "source": [
    "names[names.str.contains('e')]"
   ]
  },
  {
   "cell_type": "code",
   "execution_count": 116,
   "id": "dcd95fa7-9dce-4df8-8b98-a19e07b43ac1",
   "metadata": {},
   "outputs": [
    {
     "data": {
      "text/plain": [
       "0      enosh\n",
       "1    matanel\n",
       "3      yossi\n",
       "dtype: object"
      ]
     },
     "execution_count": 116,
     "metadata": {},
     "output_type": "execute_result"
    }
   ],
   "source": [
    "names[names.str.len() > 4]"
   ]
  },
  {
   "cell_type": "code",
   "execution_count": 120,
   "id": "a80ba458-493e-4226-b1f4-5f9f49a96c7b",
   "metadata": {},
   "outputs": [
    {
     "data": {
      "text/plain": [
       "'yossi'"
      ]
     },
     "execution_count": 120,
     "metadata": {},
     "output_type": "execute_result"
    }
   ],
   "source": [
    "names.max()"
   ]
  },
  {
   "cell_type": "code",
   "execution_count": 124,
   "id": "103b4804-f0d4-4707-8c7a-19c3818f4ff4",
   "metadata": {},
   "outputs": [
    {
     "data": {
      "text/plain": [
       "'enoshmatanelalefyossielad'"
      ]
     },
     "execution_count": 124,
     "metadata": {},
     "output_type": "execute_result"
    }
   ],
   "source": [
    "names.sum()"
   ]
  },
  {
   "cell_type": "code",
   "execution_count": 125,
   "id": "8bfc55b5-d38c-4021-86bd-184bde3aa524",
   "metadata": {},
   "outputs": [
    {
     "data": {
      "text/plain": [
       "array(['enosh', 'matanel', 'alef', 'yossi', 'elad'], dtype=object)"
      ]
     },
     "execution_count": 125,
     "metadata": {},
     "output_type": "execute_result"
    }
   ],
   "source": [
    "names.unique()"
   ]
  },
  {
   "cell_type": "code",
   "execution_count": 128,
   "id": "689723b8-f7cc-4e3e-a75f-c24e477c5a98",
   "metadata": {},
   "outputs": [
    {
     "data": {
      "text/plain": [
       "5"
      ]
     },
     "execution_count": 128,
     "metadata": {},
     "output_type": "execute_result"
    }
   ],
   "source": [
    "names.nunique()"
   ]
  },
  {
   "cell_type": "code",
   "execution_count": 134,
   "id": "45e14028-058b-434f-bcec-d8268f17545d",
   "metadata": {},
   "outputs": [
    {
     "data": {
      "text/plain": [
       "matanel    2\n",
       "enosh      1\n",
       "alef       1\n",
       "yossi      1\n",
       "elad       1\n",
       "Name: count, dtype: int64"
      ]
     },
     "execution_count": 134,
     "metadata": {},
     "output_type": "execute_result"
    }
   ],
   "source": [
    "names.value_counts()"
   ]
  },
  {
   "cell_type": "code",
   "execution_count": 139,
   "id": "98aeefe4-4628-4575-8879-71fb2a0e3744",
   "metadata": {},
   "outputs": [
    {
     "data": {
      "text/plain": [
       "0     3.0\n",
       "1     NaN\n",
       "2    10.0\n",
       "3    90.0\n",
       "4     NaN\n",
       "dtype: float64"
      ]
     },
     "execution_count": 139,
     "metadata": {},
     "output_type": "execute_result"
    }
   ],
   "source": [
    "x"
   ]
  },
  {
   "cell_type": "code",
   "execution_count": 141,
   "id": "020e35be-f10c-42b9-8ec1-cb59c6a5faa7",
   "metadata": {},
   "outputs": [
    {
     "data": {
      "text/plain": [
       "0    False\n",
       "1     True\n",
       "2    False\n",
       "3    False\n",
       "4     True\n",
       "dtype: bool"
      ]
     },
     "execution_count": 141,
     "metadata": {},
     "output_type": "execute_result"
    }
   ],
   "source": [
    "x.isna()"
   ]
  },
  {
   "cell_type": "code",
   "execution_count": 143,
   "id": "fe27b1a4-b53a-4b0d-844a-a4d762cd7dba",
   "metadata": {},
   "outputs": [
    {
     "data": {
      "text/plain": [
       "2"
      ]
     },
     "execution_count": 143,
     "metadata": {},
     "output_type": "execute_result"
    }
   ],
   "source": [
    "x.isna().sum()"
   ]
  },
  {
   "cell_type": "code",
   "execution_count": 144,
   "id": "210aebee-952c-4300-a160-49248d54a440",
   "metadata": {},
   "outputs": [
    {
     "data": {
      "text/plain": [
       "0     3.0\n",
       "2    10.0\n",
       "3    90.0\n",
       "dtype: float64"
      ]
     },
     "execution_count": 144,
     "metadata": {},
     "output_type": "execute_result"
    }
   ],
   "source": [
    "x.dropna()"
   ]
  },
  {
   "cell_type": "code",
   "execution_count": 145,
   "id": "6c695523-a251-4145-b7c1-d6a85ed9ff70",
   "metadata": {},
   "outputs": [
    {
     "data": {
      "text/plain": [
       "0      3.0\n",
       "1    100.0\n",
       "2     10.0\n",
       "3     90.0\n",
       "4    100.0\n",
       "dtype: float64"
      ]
     },
     "execution_count": 145,
     "metadata": {},
     "output_type": "execute_result"
    }
   ],
   "source": [
    "x.fillna(100)"
   ]
  },
  {
   "cell_type": "code",
   "execution_count": 146,
   "id": "79308250-10fa-482c-a361-7fcbe06c0da9",
   "metadata": {},
   "outputs": [
    {
     "data": {
      "text/plain": [
       "0     3.000000\n",
       "1    34.333333\n",
       "2    10.000000\n",
       "3    90.000000\n",
       "4    34.333333\n",
       "dtype: float64"
      ]
     },
     "execution_count": 146,
     "metadata": {},
     "output_type": "execute_result"
    }
   ],
   "source": [
    "x.fillna(x.mean())"
   ]
  },
  {
   "cell_type": "code",
   "execution_count": 147,
   "id": "ae190e15-7560-443c-8de8-194be6542b0b",
   "metadata": {},
   "outputs": [
    {
     "data": {
      "text/plain": [
       "0     odd\n",
       "1     odd\n",
       "2    even\n",
       "3    even\n",
       "4     odd\n",
       "dtype: object"
      ]
     },
     "execution_count": 147,
     "metadata": {},
     "output_type": "execute_result"
    }
   ],
   "source": [
    "x.apply(lambda x: \"even\" if x % 2 == 0 else \"odd\")"
   ]
  },
  {
   "cell_type": "code",
   "execution_count": 154,
   "id": "f2ffab13-a735-474e-b5b7-894b61b9c4f8",
   "metadata": {},
   "outputs": [
    {
     "data": {
      "text/plain": [
       "0    enosh\n",
       "1     cool\n",
       "2     cool\n",
       "3     alef\n",
       "4    yossi\n",
       "5     elad\n",
       "dtype: object"
      ]
     },
     "execution_count": 154,
     "metadata": {},
     "output_type": "execute_result"
    }
   ],
   "source": [
    "names.where(~names.str.contains('matan'), 'cool')"
   ]
  },
  {
   "cell_type": "code",
   "execution_count": 155,
   "id": "5b6adcbb-ac3e-4dc6-8aa5-c2c91c8cda9e",
   "metadata": {},
   "outputs": [
    {
     "data": {
      "text/plain": [
       "0      enosh\n",
       "1    matanel\n",
       "2    matanel\n",
       "3       alef\n",
       "4      yossi\n",
       "5       elad\n",
       "dtype: object"
      ]
     },
     "execution_count": 155,
     "metadata": {},
     "output_type": "execute_result"
    }
   ],
   "source": [
    "names"
   ]
  },
  {
   "cell_type": "code",
   "execution_count": 159,
   "id": "c6b6bfa0-5dec-4f11-9727-f479b2a72282",
   "metadata": {},
   "outputs": [
    {
     "data": {
      "text/plain": [
       "0    cool\n",
       "1    cool\n",
       "2    cool\n",
       "3    alef\n",
       "4    cool\n",
       "5    elad\n",
       "dtype: object"
      ]
     },
     "execution_count": 159,
     "metadata": {},
     "output_type": "execute_result"
    }
   ],
   "source": [
    "names.where(~names.str.len().gt(4), 'cool', inplace=True)\n",
    "names"
   ]
  },
  {
   "cell_type": "code",
   "execution_count": 174,
   "id": "f4929ebd-f164-4f3c-bcf8-50006fc50675",
   "metadata": {},
   "outputs": [
    {
     "data": {
      "text/plain": [
       "0    popo\n",
       "1    popo\n",
       "2    popo\n",
       "3    alef\n",
       "4    popo\n",
       "5    popo\n",
       "dtype: object"
      ]
     },
     "execution_count": 174,
     "metadata": {},
     "output_type": "execute_result"
    }
   ],
   "source": [
    "idk = names.where(~names.eq('cool'), 'yossi')\n",
    "# idk\n",
    "idk.where(names.str.endswith('f'), 'popo')"
   ]
  },
  {
   "cell_type": "code",
   "execution_count": null,
   "id": "dbc048ae-a2a3-4969-b51d-833409730769",
   "metadata": {},
   "outputs": [],
   "source": []
  }
 ],
 "metadata": {
  "kernelspec": {
   "display_name": "Python 3 (ipykernel)",
   "language": "python",
   "name": "python3"
  },
  "language_info": {
   "codemirror_mode": {
    "name": "ipython",
    "version": 3
   },
   "file_extension": ".py",
   "mimetype": "text/x-python",
   "name": "python",
   "nbconvert_exporter": "python",
   "pygments_lexer": "ipython3",
   "version": "3.11.6"
  }
 },
 "nbformat": 4,
 "nbformat_minor": 5
}
