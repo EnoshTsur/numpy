{
 "cells": [
  {
   "cell_type": "code",
   "execution_count": 3,
   "id": "05f7e4a1-0420-4486-b956-181631ebd8b3",
   "metadata": {},
   "outputs": [],
   "source": [
    "import pandas as pd\n",
    "import numpy as np"
   ]
  },
  {
   "cell_type": "code",
   "execution_count": 36,
   "id": "491d61cb-a5fe-447a-9810-2580afb6c272",
   "metadata": {},
   "outputs": [
    {
     "data": {
      "text/plain": [
       "0      0\n",
       "1      5\n",
       "2    100\n",
       "3     12\n",
       "4     45\n",
       "5     90\n",
       "6     12\n",
       "Name: Sales, dtype: int64"
      ]
     },
     "execution_count": 36,
     "metadata": {},
     "output_type": "execute_result"
    }
   ],
   "source": [
    "sales = [0, 5, 100,12, 45, 90, 12]\n",
    "sales_series = pd.Series(sales, name=\"Sales\")\n",
    "sales_series"
   ]
  },
  {
   "cell_type": "code",
   "execution_count": 38,
   "id": "c114afdb-349f-48a7-aa9c-5a46d0b7cf62",
   "metadata": {},
   "outputs": [
    {
     "data": {
      "text/plain": [
       "2    100\n",
       "3     12\n",
       "Name: Sales, dtype: int64"
      ]
     },
     "execution_count": 38,
     "metadata": {},
     "output_type": "execute_result"
    }
   ],
   "source": [
    "sales_series[2:4]"
   ]
  },
  {
   "cell_type": "code",
   "execution_count": 5,
   "id": "5c156ca1-f321-4533-8fac-a4b1380c3527",
   "metadata": {},
   "outputs": [
    {
     "data": {
      "text/plain": [
       "RangeIndex(start=0, stop=7, step=1)"
      ]
     },
     "execution_count": 5,
     "metadata": {},
     "output_type": "execute_result"
    }
   ],
   "source": [
    "sales_series.index"
   ]
  },
  {
   "cell_type": "code",
   "execution_count": 7,
   "id": "bb26f0c4-109e-4fa3-beca-da4a7092f29c",
   "metadata": {},
   "outputs": [
    {
     "data": {
      "text/plain": [
       "array([  0,   5, 100,  12,  45,  90,  12])"
      ]
     },
     "execution_count": 7,
     "metadata": {},
     "output_type": "execute_result"
    }
   ],
   "source": [
    "sales_series.values"
   ]
  },
  {
   "cell_type": "code",
   "execution_count": 8,
   "id": "9ce1beea-4978-4ebd-a7cd-948d9d5a8ee6",
   "metadata": {},
   "outputs": [
    {
     "data": {
      "text/plain": [
       "'Sales'"
      ]
     },
     "execution_count": 8,
     "metadata": {},
     "output_type": "execute_result"
    }
   ],
   "source": [
    "sales_series.name"
   ]
  },
  {
   "cell_type": "code",
   "execution_count": 9,
   "id": "9c51602e-d71c-4db5-962e-d6b6c27c5c0d",
   "metadata": {},
   "outputs": [
    {
     "data": {
      "text/plain": [
       "dtype('int64')"
      ]
     },
     "execution_count": 9,
     "metadata": {},
     "output_type": "execute_result"
    }
   ],
   "source": [
    "sales_series.dtype"
   ]
  },
  {
   "cell_type": "code",
   "execution_count": 10,
   "id": "2f41aa29-32f9-4c76-aa91-3b40d64db4d5",
   "metadata": {},
   "outputs": [
    {
     "data": {
      "text/plain": [
       "100"
      ]
     },
     "execution_count": 10,
     "metadata": {},
     "output_type": "execute_result"
    }
   ],
   "source": [
    "sales_series.values.max()"
   ]
  },
  {
   "cell_type": "code",
   "execution_count": 11,
   "id": "0503f194-2a70-4a49-bcc0-de235893a9d9",
   "metadata": {},
   "outputs": [
    {
     "data": {
      "text/plain": [
       "100"
      ]
     },
     "execution_count": 11,
     "metadata": {},
     "output_type": "execute_result"
    }
   ],
   "source": [
    "sales_series.max()"
   ]
  },
  {
   "cell_type": "code",
   "execution_count": 14,
   "id": "38737378-34b7-4f65-be2f-fb7519580dd9",
   "metadata": {},
   "outputs": [
    {
     "data": {
      "text/plain": [
       "10      0\n",
       "20      5\n",
       "30    100\n",
       "40     12\n",
       "50     45\n",
       "60     90\n",
       "70     12\n",
       "Name: Sales, dtype: int64"
      ]
     },
     "execution_count": 14,
     "metadata": {},
     "output_type": "execute_result"
    }
   ],
   "source": [
    "sales_series.index = [10, 20, 30, 40, 50, 60, 70]\n",
    "sales_series"
   ]
  },
  {
   "cell_type": "code",
   "execution_count": 17,
   "id": "a94cbc5d-f659-4ef6-9ea6-d36b964844fe",
   "metadata": {},
   "outputs": [
    {
     "data": {
      "text/plain": [
       "one        0\n",
       "two        5\n",
       "three    100\n",
       "four      12\n",
       "five      45\n",
       "six       90\n",
       "seven     12\n",
       "Name: Sales, dtype: int64"
      ]
     },
     "execution_count": 17,
     "metadata": {},
     "output_type": "execute_result"
    }
   ],
   "source": [
    "sales_series.index = ['one', 'two', 'three', 'four', 'five', 'six', 'seven']\n",
    "sales_series"
   ]
  },
  {
   "cell_type": "code",
   "execution_count": 19,
   "id": "ef35d9dc-80e1-4a8c-96b5-249a011c8c09",
   "metadata": {},
   "outputs": [
    {
     "data": {
      "text/plain": [
       "5"
      ]
     },
     "execution_count": 19,
     "metadata": {},
     "output_type": "execute_result"
    }
   ],
   "source": [
    "sales_series['two']"
   ]
  },
  {
   "cell_type": "code",
   "execution_count": 33,
   "id": "e1c50129-1fe2-4eeb-805f-2d57d8fec3ac",
   "metadata": {},
   "outputs": [
    {
     "data": {
      "text/plain": [
       "two        5\n",
       "three    100\n",
       "four      12\n",
       "Name: Sales, dtype: int64"
      ]
     },
     "execution_count": 33,
     "metadata": {},
     "output_type": "execute_result"
    }
   ],
   "source": [
    "sales_series['two':'four']"
   ]
  },
  {
   "cell_type": "code",
   "execution_count": 34,
   "id": "edc4c4ae-ba6b-4a45-8e29-346233d45d67",
   "metadata": {},
   "outputs": [
    {
     "data": {
      "text/plain": [
       "cola       9.99\n",
       "sprite    10.50\n",
       "gum        2.99\n",
       "dtype: float64"
      ]
     },
     "execution_count": 34,
     "metadata": {},
     "output_type": "execute_result"
    }
   ],
   "source": [
    "products = pd.Series([9.99, 10.50, 2.99], index=['cola', 'sprite','gum'])\n",
    "products"
   ]
  },
  {
   "cell_type": "code",
   "execution_count": 25,
   "id": "41e8cb2e-380b-4415-9080-31a9c5c5fb7b",
   "metadata": {},
   "outputs": [
    {
     "data": {
      "text/plain": [
       "one        0\n",
       "two        5\n",
       "three    100\n",
       "four      12\n",
       "five      45\n",
       "six       90\n",
       "seven     12\n",
       "Name: Sales, dtype: string"
      ]
     },
     "execution_count": 25,
     "metadata": {},
     "output_type": "execute_result"
    }
   ],
   "source": [
    "sales_series.astype(\"string\")"
   ]
  },
  {
   "cell_type": "code",
   "execution_count": 23,
   "id": "4bd4deaa-3c35-4c45-b0d3-aa100183c040",
   "metadata": {},
   "outputs": [
    {
     "data": {
      "text/plain": [
       "one      False\n",
       "two       True\n",
       "three     True\n",
       "four      True\n",
       "five      True\n",
       "six       True\n",
       "seven     True\n",
       "Name: Sales, dtype: bool"
      ]
     },
     "execution_count": 23,
     "metadata": {},
     "output_type": "execute_result"
    }
   ],
   "source": [
    "sales_series.astype(\"bool\")"
   ]
  },
  {
   "cell_type": "code",
   "execution_count": 24,
   "id": "0c997417-7c05-49c0-bb0a-e01fe5adb5ef",
   "metadata": {},
   "outputs": [
    {
     "data": {
      "text/plain": [
       "one        0.0\n",
       "two        5.0\n",
       "three    100.0\n",
       "four      12.0\n",
       "five      45.0\n",
       "six       90.0\n",
       "seven     12.0\n",
       "Name: Sales, dtype: float64"
      ]
     },
     "execution_count": 24,
     "metadata": {},
     "output_type": "execute_result"
    }
   ],
   "source": [
    "sales_series.astype(\"float\")"
   ]
  },
  {
   "cell_type": "code",
   "execution_count": 32,
   "id": "66b500ab-358f-499a-b065-4f8de1ac84b4",
   "metadata": {},
   "outputs": [],
   "source": [
    "# url = 'https://raw.githubusercontent.com/justmarkham/DAT8/master/data/chipotle.tsv'\n",
    "# data = pd.read_csv(url, sep = '\\t')\n",
    "# data"
   ]
  },
  {
   "cell_type": "code",
   "execution_count": 44,
   "id": "8ad03740-d7df-4c82-862f-54f18f25305f",
   "metadata": {},
   "outputs": [
    {
     "data": {
      "text/plain": [
       "one      1\n",
       "two      2\n",
       "three    3\n",
       "dtype: int64"
      ]
     },
     "execution_count": 44,
     "metadata": {},
     "output_type": "execute_result"
    }
   ],
   "source": [
    "numbers = pd.Series(range(1,4), index=['one', 'two', 'three'])\n",
    "numbers"
   ]
  },
  {
   "cell_type": "code",
   "execution_count": 46,
   "id": "087821ab-5dc9-4cbb-abf2-e0aa1cc31058",
   "metadata": {},
   "outputs": [
    {
     "data": {
      "text/plain": [
       "1"
      ]
     },
     "execution_count": 46,
     "metadata": {},
     "output_type": "execute_result"
    }
   ],
   "source": [
    "numbers.iloc[0]"
   ]
  },
  {
   "cell_type": "code",
   "execution_count": 48,
   "id": "19d21341-ee64-40ed-8342-1417505fcc4e",
   "metadata": {},
   "outputs": [
    {
     "data": {
      "text/plain": [
       "two      2\n",
       "three    3\n",
       "dtype: int64"
      ]
     },
     "execution_count": 48,
     "metadata": {},
     "output_type": "execute_result"
    }
   ],
   "source": [
    "numbers.iloc[1:3]"
   ]
  },
  {
   "cell_type": "code",
   "execution_count": 49,
   "id": "79deae68-fd68-4c75-afc4-47fe356a123a",
   "metadata": {},
   "outputs": [
    {
     "data": {
      "text/plain": [
       "3"
      ]
     },
     "execution_count": 49,
     "metadata": {},
     "output_type": "execute_result"
    }
   ],
   "source": [
    "numbers.iloc[-1]"
   ]
  },
  {
   "cell_type": "code",
   "execution_count": 55,
   "id": "c6af87f4-3fd5-403d-9370-41758e1cedb3",
   "metadata": {},
   "outputs": [
    {
     "data": {
      "text/plain": [
       "one      1\n",
       "three    3\n",
       "dtype: int64"
      ]
     },
     "execution_count": 55,
     "metadata": {},
     "output_type": "execute_result"
    }
   ],
   "source": [
    "numbers.iloc[[0,2]]"
   ]
  },
  {
   "cell_type": "code",
   "execution_count": 56,
   "id": "f77b5655-da8c-40c7-989d-4bedf79d6ea1",
   "metadata": {},
   "outputs": [
    {
     "data": {
      "text/plain": [
       "1"
      ]
     },
     "execution_count": 56,
     "metadata": {},
     "output_type": "execute_result"
    }
   ],
   "source": [
    "numbers.loc['one']"
   ]
  },
  {
   "cell_type": "code",
   "execution_count": 57,
   "id": "8cb8a204-6770-4e53-9c43-d2336c55598a",
   "metadata": {},
   "outputs": [
    {
     "data": {
      "text/plain": [
       "two      2\n",
       "three    3\n",
       "dtype: int64"
      ]
     },
     "execution_count": 57,
     "metadata": {},
     "output_type": "execute_result"
    }
   ],
   "source": [
    "numbers.loc['two':'three']"
   ]
  },
  {
   "cell_type": "code",
   "execution_count": 58,
   "id": "227b7e47-318f-46f4-90c7-ebeb9388f415",
   "metadata": {},
   "outputs": [
    {
     "data": {
      "text/plain": [
       "one      1\n",
       "three    3\n",
       "dtype: int64"
      ]
     },
     "execution_count": 58,
     "metadata": {},
     "output_type": "execute_result"
    }
   ],
   "source": [
    "numbers.loc[['one', 'three']]"
   ]
  },
  {
   "cell_type": "code",
   "execution_count": 59,
   "id": "fe1062e1-562b-42d9-b6a5-4b591e70b988",
   "metadata": {},
   "outputs": [
    {
     "data": {
      "text/plain": [
       "1      0\n",
       "102    1\n",
       "50     2\n",
       "3      3\n",
       "5      4\n",
       "dtype: int64"
      ]
     },
     "execution_count": 59,
     "metadata": {},
     "output_type": "execute_result"
    }
   ],
   "source": [
    "number_index = pd.Series(range(5), index=[1, 102, 50, 3, 5])\n",
    "number_index"
   ]
  },
  {
   "cell_type": "code",
   "execution_count": 61,
   "id": "51d32e34-28ac-4210-a65c-d918021cc061",
   "metadata": {},
   "outputs": [
    {
     "data": {
      "text/plain": [
       "1      0\n",
       "102    1\n",
       "50     2\n",
       "3      3\n",
       "5      4\n",
       "dtype: int64"
      ]
     },
     "execution_count": 61,
     "metadata": {},
     "output_type": "execute_result"
    }
   ],
   "source": [
    "number_index.loc[1:5]"
   ]
  },
  {
   "cell_type": "code",
   "execution_count": 63,
   "id": "8a370b95-d7ec-490f-ae25-19a165fd6b10",
   "metadata": {},
   "outputs": [
    {
     "data": {
      "text/plain": [
       "102    1\n",
       "50     2\n",
       "3      3\n",
       "dtype: int64"
      ]
     },
     "execution_count": 63,
     "metadata": {},
     "output_type": "execute_result"
    }
   ],
   "source": [
    "number_index.loc[102:3]"
   ]
  },
  {
   "cell_type": "code",
   "execution_count": 65,
   "id": "464bad7d-c06a-4652-a0fe-23f87ba90bd8",
   "metadata": {},
   "outputs": [
    {
     "data": {
      "text/html": [
       "<div>\n",
       "<style scoped>\n",
       "    .dataframe tbody tr th:only-of-type {\n",
       "        vertical-align: middle;\n",
       "    }\n",
       "\n",
       "    .dataframe tbody tr th {\n",
       "        vertical-align: top;\n",
       "    }\n",
       "\n",
       "    .dataframe thead th {\n",
       "        text-align: right;\n",
       "    }\n",
       "</style>\n",
       "<table border=\"1\" class=\"dataframe\">\n",
       "  <thead>\n",
       "    <tr style=\"text-align: right;\">\n",
       "      <th></th>\n",
       "      <th>index</th>\n",
       "      <th>0</th>\n",
       "    </tr>\n",
       "  </thead>\n",
       "  <tbody>\n",
       "    <tr>\n",
       "      <th>0</th>\n",
       "      <td>1</td>\n",
       "      <td>0</td>\n",
       "    </tr>\n",
       "    <tr>\n",
       "      <th>1</th>\n",
       "      <td>102</td>\n",
       "      <td>1</td>\n",
       "    </tr>\n",
       "    <tr>\n",
       "      <th>2</th>\n",
       "      <td>50</td>\n",
       "      <td>2</td>\n",
       "    </tr>\n",
       "    <tr>\n",
       "      <th>3</th>\n",
       "      <td>3</td>\n",
       "      <td>3</td>\n",
       "    </tr>\n",
       "    <tr>\n",
       "      <th>4</th>\n",
       "      <td>5</td>\n",
       "      <td>4</td>\n",
       "    </tr>\n",
       "  </tbody>\n",
       "</table>\n",
       "</div>"
      ],
      "text/plain": [
       "   index  0\n",
       "0      1  0\n",
       "1    102  1\n",
       "2     50  2\n",
       "3      3  3\n",
       "4      5  4"
      ]
     },
     "execution_count": 65,
     "metadata": {},
     "output_type": "execute_result"
    }
   ],
   "source": [
    "number_index.reset_index()"
   ]
  },
  {
   "cell_type": "code",
   "execution_count": 66,
   "id": "dc1ed6b8-9daa-41c4-b84a-177051d7aa4f",
   "metadata": {},
   "outputs": [
    {
     "data": {
      "text/plain": [
       "0    0\n",
       "1    1\n",
       "2    2\n",
       "3    3\n",
       "4    4\n",
       "dtype: int64"
      ]
     },
     "execution_count": 66,
     "metadata": {},
     "output_type": "execute_result"
    }
   ],
   "source": [
    "number_index.reset_index(drop=True)"
   ]
  },
  {
   "cell_type": "code",
   "execution_count": 67,
   "id": "ce72f011-e041-4905-8ba4-784ab97c4547",
   "metadata": {},
   "outputs": [
    {
     "data": {
      "text/plain": [
       "1    1\n",
       "2    2\n",
       "3    3\n",
       "dtype: int64"
      ]
     },
     "execution_count": 67,
     "metadata": {},
     "output_type": "execute_result"
    }
   ],
   "source": [
    "number_index.reset_index(drop=True).loc[1:3]"
   ]
  },
  {
   "cell_type": "code",
   "execution_count": 68,
   "id": "ae76f616-642d-4a46-8b30-15fc687b8d7d",
   "metadata": {},
   "outputs": [
    {
     "data": {
      "text/plain": [
       "0      0\n",
       "1      5\n",
       "2    100\n",
       "3     12\n",
       "4     45\n",
       "5     90\n",
       "6     12\n",
       "Name: Sales, dtype: int64"
      ]
     },
     "execution_count": 68,
     "metadata": {},
     "output_type": "execute_result"
    }
   ],
   "source": [
    "sales_series"
   ]
  },
  {
   "cell_type": "code",
   "execution_count": 69,
   "id": "a98ffed7-0a32-4617-b0d0-4e81dd947b72",
   "metadata": {},
   "outputs": [
    {
     "data": {
      "text/plain": [
       "2    100\n",
       "4     45\n",
       "5     90\n",
       "Name: Sales, dtype: int64"
      ]
     },
     "execution_count": 69,
     "metadata": {},
     "output_type": "execute_result"
    }
   ],
   "source": [
    "sales_series[sales_series > 40]"
   ]
  },
  {
   "cell_type": "code",
   "execution_count": 70,
   "id": "7a3f9231-d6a4-4e52-a105-056b5525415f",
   "metadata": {},
   "outputs": [
    {
     "data": {
      "text/plain": [
       "2    100\n",
       "4     45\n",
       "5     90\n",
       "Name: Sales, dtype: int64"
      ]
     },
     "execution_count": 70,
     "metadata": {},
     "output_type": "execute_result"
    }
   ],
   "source": [
    "sales_series[sales_series.gt(40)]"
   ]
  },
  {
   "cell_type": "code",
   "execution_count": 71,
   "id": "92468734-2af0-46fa-a1a0-95ddefd9b2d9",
   "metadata": {},
   "outputs": [
    {
     "data": {
      "text/plain": [
       "2    100\n",
       "Name: Sales, dtype: int64"
      ]
     },
     "execution_count": 71,
     "metadata": {},
     "output_type": "execute_result"
    }
   ],
   "source": [
    "sales_series[sales_series.eq(100)]"
   ]
  },
  {
   "cell_type": "code",
   "execution_count": 72,
   "id": "ddb9b117-f29e-4248-afe4-60656b3eb0a7",
   "metadata": {},
   "outputs": [
    {
     "data": {
      "text/plain": [
       "array([ True, False, False,  True, False, False,  True])"
      ]
     },
     "execution_count": 72,
     "metadata": {},
     "output_type": "execute_result"
    }
   ],
   "source": [
    "sales_series.index.isin([0, 3, 6])"
   ]
  },
  {
   "cell_type": "code",
   "execution_count": 73,
   "id": "b0efd572-7ff7-437f-be99-9a5798016b96",
   "metadata": {},
   "outputs": [
    {
     "data": {
      "text/plain": [
       "0     0\n",
       "3    12\n",
       "6    12\n",
       "Name: Sales, dtype: int64"
      ]
     },
     "execution_count": 73,
     "metadata": {},
     "output_type": "execute_result"
    }
   ],
   "source": [
    "sales_series[sales_series.index.isin([0, 3, 6])]"
   ]
  },
  {
   "cell_type": "code",
   "execution_count": 74,
   "id": "9d29b8d1-4e71-46b4-855e-c7f6bdb53134",
   "metadata": {},
   "outputs": [
    {
     "data": {
      "text/plain": [
       "1      5\n",
       "2    100\n",
       "4     45\n",
       "5     90\n",
       "Name: Sales, dtype: int64"
      ]
     },
     "execution_count": 74,
     "metadata": {},
     "output_type": "execute_result"
    }
   ],
   "source": [
    "sales_series[~sales_series.index.isin([0, 3, 6])]"
   ]
  },
  {
   "cell_type": "code",
   "execution_count": 75,
   "id": "d96d8378-8b92-4903-b955-2e866abedf0e",
   "metadata": {},
   "outputs": [
    {
     "data": {
      "text/plain": [
       "2    100\n",
       "4     45\n",
       "Name: Sales, dtype: int64"
      ]
     },
     "execution_count": 75,
     "metadata": {},
     "output_type": "execute_result"
    }
   ],
   "source": [
    "sales_series[sales_series.isin([100, 45])]"
   ]
  },
  {
   "cell_type": "code",
   "execution_count": 76,
   "id": "f3a1e259-6aab-4023-98f3-e69d7ce5379b",
   "metadata": {},
   "outputs": [
    {
     "data": {
      "text/plain": [
       "0     0\n",
       "1     5\n",
       "3    12\n",
       "4    45\n",
       "5    90\n",
       "6    12\n",
       "Name: Sales, dtype: int64"
      ]
     },
     "execution_count": 76,
     "metadata": {},
     "output_type": "execute_result"
    }
   ],
   "source": [
    "sales_series[~sales_series.eq(100)]"
   ]
  },
  {
   "cell_type": "code",
   "execution_count": null,
   "id": "86c9a42b-a60a-49f8-ba70-a2a17d09c7ab",
   "metadata": {},
   "outputs": [],
   "source": []
  }
 ],
 "metadata": {
  "kernelspec": {
   "display_name": "Python 3 (ipykernel)",
   "language": "python",
   "name": "python3"
  },
  "language_info": {
   "codemirror_mode": {
    "name": "ipython",
    "version": 3
   },
   "file_extension": ".py",
   "mimetype": "text/x-python",
   "name": "python",
   "nbconvert_exporter": "python",
   "pygments_lexer": "ipython3",
   "version": "3.11.6"
  }
 },
 "nbformat": 4,
 "nbformat_minor": 5
}
