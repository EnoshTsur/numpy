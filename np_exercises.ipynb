{
 "cells": [
  {
   "cell_type": "code",
   "execution_count": 1,
   "id": "917f0546-fb62-4b80-a7cf-c9fe235faeb9",
   "metadata": {},
   "outputs": [],
   "source": [
    "import numpy as np\n",
    "from numpy.random import default_rng"
   ]
  },
  {
   "cell_type": "code",
   "execution_count": 6,
   "id": "01e42b2b-1f99-4d92-b2cd-34415aa78c2a",
   "metadata": {},
   "outputs": [
    {
     "data": {
      "text/plain": [
       "array([ 9, 77, 65, 44, 43, 86,  9, 70, 20, 10, 53, 97, 73, 76, 72, 78, 51,\n",
       "       13, 84, 45])"
      ]
     },
     "execution_count": 6,
     "metadata": {},
     "output_type": "execute_result"
    }
   ],
   "source": [
    "rng = default_rng(42)\n",
    "random_arr = rng.integers(1, 100, size=20)\n",
    "random_arr"
   ]
  },
  {
   "cell_type": "code",
   "execution_count": 8,
   "id": "525f5b91-8dd4-48ad-bb5a-8d617b37b2ca",
   "metadata": {},
   "outputs": [
    {
     "data": {
      "text/plain": [
       "array([0.19463871, 0.466721  , 0.04380377, 0.15428949, 0.68304895,\n",
       "       0.74476216, 0.96750973, 0.32582536, 0.37045971, 0.46955581,\n",
       "       0.18947136, 0.12992151, 0.47570493, 0.22690935, 0.66981399])"
      ]
     },
     "execution_count": 8,
     "metadata": {},
     "output_type": "execute_result"
    }
   ],
   "source": [
    "float_arr = rng.random(15)\n",
    "float_arr"
   ]
  },
  {
   "cell_type": "code",
   "execution_count": 9,
   "id": "4e9b42c7-b7d8-4a21-9f47-22ecdec69eee",
   "metadata": {},
   "outputs": [
    {
     "data": {
      "text/plain": [
       "array([ 1,  2,  3,  4,  5,  6,  7,  8,  9, 10])"
      ]
     },
     "execution_count": 9,
     "metadata": {},
     "output_type": "execute_result"
    }
   ],
   "source": [
    "arr1d = np.arange(1, 11)\n",
    "arr1d"
   ]
  },
  {
   "cell_type": "code",
   "execution_count": 10,
   "id": "04cfcf4f-fcf0-4319-b9c2-ce9a4470fba6",
   "metadata": {},
   "outputs": [
    {
     "data": {
      "text/plain": [
       "array([[ 1,  2,  3,  4],\n",
       "       [ 5,  6,  7,  8],\n",
       "       [ 9, 10, 11, 12]])"
      ]
     },
     "execution_count": 10,
     "metadata": {},
     "output_type": "execute_result"
    }
   ],
   "source": [
    "arr2d = np.array([[1, 2, 3, 4], \n",
    "                  [5, 6, 7, 8],\n",
    "                  [9, 10, 11, 12]])\n",
    "arr2d"
   ]
  },
  {
   "cell_type": "code",
   "execution_count": 11,
   "id": "ecc5a800-43a6-4311-a3de-8f880e88a19c",
   "metadata": {},
   "outputs": [
    {
     "data": {
      "text/plain": [
       "array([[ 1,  2,  3],\n",
       "       [ 4,  5,  6],\n",
       "       [ 7,  8,  9],\n",
       "       [10, 11, 12]])"
      ]
     },
     "execution_count": 11,
     "metadata": {},
     "output_type": "execute_result"
    }
   ],
   "source": [
    "nested_arr = np.array([[1, 2, 3], [4, 5, 6], [7, 8, 9], [10, 11, 12]])\n",
    "nested_arr"
   ]
  },
  {
   "cell_type": "code",
   "execution_count": 12,
   "id": "4d89175d-f208-4433-85e0-e9e24443acd3",
   "metadata": {},
   "outputs": [
    {
     "data": {
      "text/plain": [
       "array(['Matanel', 'Alef', 'Omer', 'Itshak', 'Maor', 'Elly', 'Tomer',\n",
       "       'Yossi'], dtype='<U7')"
      ]
     },
     "execution_count": 12,
     "metadata": {},
     "output_type": "execute_result"
    }
   ],
   "source": [
    "names_arr = np.array(['Matanel', 'Alef', 'Omer', 'Itshak', 'Maor', 'Elly', 'Tomer', 'Yossi'])\n",
    "names_arr"
   ]
  },
  {
   "cell_type": "code",
   "execution_count": 13,
   "id": "0a243af7-37cd-4053-b755-15acfe79336d",
   "metadata": {},
   "outputs": [
    {
     "data": {
      "text/plain": [
       "'\\nReshape random_arr into a 4x5 array\\nYour code here:\\n'"
      ]
     },
     "execution_count": 13,
     "metadata": {},
     "output_type": "execute_result"
    }
   ],
   "source": [
    "# Exercise 1: Array Reshaping\n",
    "\"\"\"\n",
    "Reshape random_arr into a 4x5 array\n",
    "Your code here:\n",
    "\"\"\""
   ]
  },
  {
   "cell_type": "code",
   "execution_count": 14,
   "id": "fbd4bf76-ea1d-4959-8d81-0c94bcd0ede1",
   "metadata": {},
   "outputs": [
    {
     "data": {
      "text/plain": [
       "'\\nFlatten nested_arr into a 1D array\\nYour code here:\\n'"
      ]
     },
     "execution_count": 14,
     "metadata": {},
     "output_type": "execute_result"
    }
   ],
   "source": [
    "# Exercise 2: Array Flattening\n",
    "\"\"\"\n",
    "Flatten nested_arr into a 1D array\n",
    "Your code here:\n",
    "\"\"\"\n"
   ]
  },
  {
   "cell_type": "code",
   "execution_count": 19,
   "id": "195c3f8d-4a6b-48f2-8ba5-e177c89d87ad",
   "metadata": {},
   "outputs": [
    {
     "data": {
      "text/plain": [
       "'\\nConcatenate arr1d with itself horizontally\\nYour code here:\\n'"
      ]
     },
     "execution_count": 19,
     "metadata": {},
     "output_type": "execute_result"
    }
   ],
   "source": [
    "# Exercise 3: Array Concatenation\n",
    "\"\"\"\n",
    "Concatenate arr1d with itself horizontally\n",
    "Your code here:\n",
    "\"\"\""
   ]
  },
  {
   "cell_type": "code",
   "execution_count": 20,
   "id": "ca723954-ba49-409e-9728-06783e5a0e4f",
   "metadata": {},
   "outputs": [
    {
     "data": {
      "text/plain": [
       "'\\nGet every second element from arr1d\\nYour code here:\\n'"
      ]
     },
     "execution_count": 20,
     "metadata": {},
     "output_type": "execute_result"
    }
   ],
   "source": [
    "# Exercise 4: Basic Slicing\n",
    "\"\"\"\n",
    "Get every second element from arr1d\n",
    "Your code here:\n",
    "\"\"\""
   ]
  },
  {
   "cell_type": "code",
   "execution_count": 21,
   "id": "46ec0e2f-8442-45e3-9766-2a1757182002",
   "metadata": {},
   "outputs": [
    {
     "data": {
      "text/plain": [
       "'\\nGet the middle 2x2 subarray [[4, 5], [7, 8]] from nested_arr\\nYour code here:\\n'"
      ]
     },
     "execution_count": 21,
     "metadata": {},
     "output_type": "execute_result"
    }
   ],
   "source": [
    "# Exercise 5: Advanced Slicing\n",
    "\"\"\"\n",
    "Get the middle 2x2 subarray [[4, 5], [7, 8]] from nested_arr\n",
    "Your code here:\n",
    "\"\"\""
   ]
  },
  {
   "cell_type": "code",
   "execution_count": 27,
   "id": "e4a3d00d-dee0-47ab-a696-23b65cabda10",
   "metadata": {},
   "outputs": [
    {
     "data": {
      "text/plain": [
       "'\\nReverse the order of elements in arr1d\\nYour code here:\\n'"
      ]
     },
     "execution_count": 27,
     "metadata": {},
     "output_type": "execute_result"
    }
   ],
   "source": [
    "# Exercise 6: Reverse Indexing\n",
    "\"\"\"\n",
    "Reverse the order of elements in arr1d\n",
    "Your code here:\n",
    "\"\"\""
   ]
  },
  {
   "cell_type": "code",
   "execution_count": 29,
   "id": "0fe712ad-c507-4224-9aad-8325b5dbc0e9",
   "metadata": {},
   "outputs": [
    {
     "data": {
      "text/plain": [
       "'\\nGet all elements from random_arr that are greater than 50\\nYour code here:\\n'"
      ]
     },
     "execution_count": 29,
     "metadata": {},
     "output_type": "execute_result"
    }
   ],
   "source": [
    "# Exercise 7: Simple Filtering\n",
    "\"\"\"\n",
    "Get all elements from random_arr that are greater than 50\n",
    "Your code here:\n",
    "\"\"\""
   ]
  },
  {
   "cell_type": "code",
   "execution_count": 30,
   "id": "222177a2-1d70-407c-ba58-26451a4d89c2",
   "metadata": {},
   "outputs": [
    {
     "data": {
      "text/plain": [
       "'\\nGet elements from random_arr that are both even and greater than 30\\nYour code here:\\n'"
      ]
     },
     "execution_count": 30,
     "metadata": {},
     "output_type": "execute_result"
    }
   ],
   "source": [
    "# Exercise 8: Multiple Conditions\n",
    "\"\"\"\n",
    "Get elements from random_arr that are both even and greater than 30\n",
    "Your code here:\n",
    "\"\"\""
   ]
  },
  {
   "cell_type": "code",
   "execution_count": 31,
   "id": "648c3fee-af7e-4b6c-8f01-5d200a2b651b",
   "metadata": {},
   "outputs": [
    {
     "data": {
      "text/plain": [
       "\"\\nGet all names from names_arr that start with the letter 'A' or 'M'\\nYour code here:\\n\""
      ]
     },
     "execution_count": 31,
     "metadata": {},
     "output_type": "execute_result"
    }
   ],
   "source": [
    "# Exercise 9: String Filtering\n",
    "\"\"\"\n",
    "Get all names from names_arr that start with the letter 'A' or 'M'\n",
    "Your code here:\n",
    "\"\"\""
   ]
  },
  {
   "cell_type": "code",
   "execution_count": 32,
   "id": "c3d4795b-30d5-49ed-9053-d4ff9c3a941d",
   "metadata": {},
   "outputs": [
    {
     "data": {
      "text/plain": [
       "'\\nMultiply each element in arr1d by its index position + 1\\nYour code here:\\n'"
      ]
     },
     "execution_count": 32,
     "metadata": {},
     "output_type": "execute_result"
    }
   ],
   "source": [
    "# Exercise 10: Basic Vectorization\n",
    "\"\"\"\n",
    "Multiply each element in arr1d by its index position + 1\n",
    "Your code here:\n",
    "\"\"\""
   ]
  },
  {
   "cell_type": "code",
   "execution_count": 33,
   "id": "74dd4a40-42e4-43b8-a030-86e622a69a8a",
   "metadata": {},
   "outputs": [
    {
     "data": {
      "text/plain": [
       "'\\nCreate a vectorized function that replaces numbers less than 5 with 0 \\nand numbers greater than 5 with 10 in arr1d\\nYour code here:\\n'"
      ]
     },
     "execution_count": 33,
     "metadata": {},
     "output_type": "execute_result"
    }
   ],
   "source": [
    "# Exercise 11: Custom Function Vectorization\n",
    "\"\"\"\n",
    "Create a vectorized function that replaces numbers less than 5 with 0 \n",
    "and numbers greater than 5 with 10 in arr1d\n",
    "Your code here:\n",
    "\"\"\""
   ]
  },
  {
   "cell_type": "code",
   "execution_count": 34,
   "id": "b14d46fa-746c-4abf-8ec2-bc7757b1412e",
   "metadata": {},
   "outputs": [
    {
     "data": {
      "text/plain": [
       "\"\\nAdd the suffix '_user' to each name in names_arr\\nYour code here:\\n\""
      ]
     },
     "execution_count": 34,
     "metadata": {},
     "output_type": "execute_result"
    }
   ],
   "source": [
    "# Exercise 12: String Vectorization\n",
    "\"\"\"\n",
    "Add the suffix '_user' to each name in names_arr\n",
    "Your code here:\n",
    "\"\"\"\n"
   ]
  },
  {
   "cell_type": "code",
   "execution_count": 35,
   "id": "50473fb0-c2a5-4857-b6bf-cd321955aaec",
   "metadata": {},
   "outputs": [
    {
     "data": {
      "text/plain": [
       "'\\nAdd [1, 2, 3, 4] to each row of arr2d\\nYour code here:\\n'"
      ]
     },
     "execution_count": 35,
     "metadata": {},
     "output_type": "execute_result"
    }
   ],
   "source": [
    "# Exercise 13: Simple Broadcasting\n",
    "\"\"\"\n",
    "Add [1, 2, 3, 4] to each row of arr2d\n",
    "Your code here:\n",
    "\"\"\""
   ]
  },
  {
   "cell_type": "code",
   "execution_count": 36,
   "id": "9c129370-c493-40ca-88c2-4ea7a02eec32",
   "metadata": {},
   "outputs": [
    {
     "data": {
      "text/plain": [
       "'\\nMultiply each column in nested_arr by [1, 2, 3, 4] (one multiplier per row)\\nYour code here:\\n'"
      ]
     },
     "execution_count": 36,
     "metadata": {},
     "output_type": "execute_result"
    }
   ],
   "source": [
    "# Exercise 14: Array Comparisons\n",
    "\"\"\"\n",
    "Find elements that appear in both arr1d and nested_arr.flatten()\n",
    "Your code here:\n",
    "\"\"\""
   ]
  },
  {
   "cell_type": "code",
   "execution_count": 37,
   "id": "c17ec11a-4401-4d34-a547-4696692b4932",
   "metadata": {},
   "outputs": [
    {
     "data": {
      "text/plain": [
       "'\\nNormalize random_arr to be between 0 and 1\\nYour code here:\\n'"
      ]
     },
     "execution_count": 37,
     "metadata": {},
     "output_type": "execute_result"
    }
   ],
   "source": [
    "# Exercise 15: Normalization\n",
    "\"\"\"\n",
    "Normalize random_arr to be between 0 and 1\n",
    "Your code here:\n",
    "\"\"\""
   ]
  },
  {
   "cell_type": "code",
   "execution_count": 38,
   "id": "34d5e46c-ac9e-46f9-ad4b-4c53b55a6e8e",
   "metadata": {},
   "outputs": [
    {
     "data": {
      "text/plain": [
       "'\\nSplit arr2d horizontally into 2 equal arrays\\nYour code here:\\n'"
      ]
     },
     "execution_count": 38,
     "metadata": {},
     "output_type": "execute_result"
    }
   ],
   "source": [
    "# Exercise 16: Array Splitting\n",
    "\"\"\"\n",
    "Split arr2d horizontally into 2 equal arrays\n",
    "Your code here:\n",
    "\"\"\""
   ]
  },
  {
   "cell_type": "code",
   "execution_count": 39,
   "id": "4eb606f7-a285-4a07-8c7c-52a4f1e3952e",
   "metadata": {},
   "outputs": [
    {
     "data": {
      "text/plain": [
       "'\\nStack arr1d three times vertically\\nYour code here:\\n'"
      ]
     },
     "execution_count": 39,
     "metadata": {},
     "output_type": "execute_result"
    }
   ],
   "source": [
    "# Exercise 17: Array Stacking\n",
    "\"\"\"\n",
    "Stack arr1d three times vertically\n",
    "Your code here:\n",
    "\"\"\""
   ]
  },
  {
   "cell_type": "code",
   "execution_count": 40,
   "id": "1383c6a7-742a-4165-840f-1bd08c17d8ac",
   "metadata": {},
   "outputs": [
    {
     "data": {
      "text/plain": [
       "'\\nRoll nested_arr by 2 positions along axis 1\\nYour code here:\\n'"
      ]
     },
     "execution_count": 40,
     "metadata": {},
     "output_type": "execute_result"
    }
   ],
   "source": [
    "# Exercise 18: Array Rolling\n",
    "\"\"\"\n",
    "Roll nested_arr by 2 positions along axis 1\n",
    "Your code here:\n",
    "\"\"\""
   ]
  },
  {
   "cell_type": "code",
   "execution_count": 41,
   "id": "f9a3b776-31de-4fa4-9a39-8a22128b262a",
   "metadata": {},
   "outputs": [
    {
     "data": {
      "text/plain": [
       "'\\nReplace all even numbers in arr1d with -1 using np.where\\nYour code here:\\n'"
      ]
     },
     "execution_count": 41,
     "metadata": {},
     "output_type": "execute_result"
    }
   ],
   "source": [
    "# Exercise 19: Simple Where\n",
    "\"\"\"\n",
    "Replace all even numbers in arr1d with -1 using np.where\n",
    "Your code here:\n",
    "\"\"\"\n"
   ]
  },
  {
   "cell_type": "code",
   "execution_count": 42,
   "id": "82da2fda-23fe-41b9-8581-84e20c01f363",
   "metadata": {},
   "outputs": [
    {
     "data": {
      "text/plain": [
       "\"\\nCreate an array same shape as random_arr with:\\n'low' for values < 30\\n'medium' for values between 30 and 70\\n'high' for values > 70\\nYour code here:\\n\""
      ]
     },
     "execution_count": 42,
     "metadata": {},
     "output_type": "execute_result"
    }
   ],
   "source": [
    "# Exercise 20: Multiple Conditions\n",
    "\"\"\"\n",
    "Create an array same shape as random_arr with:\n",
    "'low' for values < 30\n",
    "'medium' for values between 30 and 70\n",
    "'high' for values > 70\n",
    "Your code here:\n",
    "\"\"\""
   ]
  },
  {
   "cell_type": "code",
   "execution_count": 43,
   "id": "22e662dd-ba89-4de7-8f3c-23295910dc13",
   "metadata": {},
   "outputs": [
    {
     "data": {
      "text/plain": [
       "'\\nRoll nested_arr by 2 positions along axis 1\\nCalculate the maximum value in axis 1\\nYour code here:\\n'"
      ]
     },
     "execution_count": 43,
     "metadata": {},
     "output_type": "execute_result"
    }
   ],
   "source": [
    "# Exercise 21: Maximum roll\n",
    "\"\"\"\n",
    "Roll nested_arr by 2 positions along axis 1\n",
    "Calculate the maximum value in axis 1\n",
    "Your code here:\n",
    "\"\"\"\n"
   ]
  },
  {
   "cell_type": "code",
   "execution_count": 44,
   "id": "cfe8b224-236c-42e4-b4ae-c7a5e814f2e6",
   "metadata": {},
   "outputs": [
    {
     "data": {
      "text/plain": [
       "'\\nFind the mean of nested_arr in axis 1\\nYour code here:\\n'"
      ]
     },
     "execution_count": 44,
     "metadata": {},
     "output_type": "execute_result"
    }
   ],
   "source": [
    "# Exercise 22: Mean\n",
    "\"\"\"\n",
    "Find the mean of nested_arr in axis 1\n",
    "Your code here:\n",
    "\"\"\""
   ]
  },
  {
   "cell_type": "code",
   "execution_count": 45,
   "id": "a92cfc89-2738-44ba-b64d-58a9faf4e964",
   "metadata": {},
   "outputs": [
    {
     "data": {
      "text/plain": [
       "'\\nFind the min of nested_arr in axis 0\\nYour code here:\\n'"
      ]
     },
     "execution_count": 45,
     "metadata": {},
     "output_type": "execute_result"
    }
   ],
   "source": [
    "# Exercise 23: Min\n",
    "\"\"\"\n",
    "Find the min of nested_arr in axis 0\n",
    "Your code here:\n",
    "\"\"\""
   ]
  },
  {
   "cell_type": "code",
   "execution_count": null,
   "id": "e605b1ea-b426-4d21-9780-6266ea278d9c",
   "metadata": {},
   "outputs": [],
   "source": [
    "# Bonus Exercise: Comprehensive Challenge\n",
    "\"\"\"\n",
    "Using random_arr:\n",
    "1. Reshape it to a 4x5 array\n",
    "2. Replace all prime numbers with -1\n",
    "3. Calculate the sum of each row where values are greater than the row's mean\n",
    "4. Sort the rows based on their sums\n",
    "Your code here:\n",
    "\"\"\""
   ]
  }
 ],
 "metadata": {
  "kernelspec": {
   "display_name": "Python 3 (ipykernel)",
   "language": "python",
   "name": "python3"
  },
  "language_info": {
   "codemirror_mode": {
    "name": "ipython",
    "version": 3
   },
   "file_extension": ".py",
   "mimetype": "text/x-python",
   "name": "python",
   "nbconvert_exporter": "python",
   "pygments_lexer": "ipython3",
   "version": "3.11.6"
  }
 },
 "nbformat": 4,
 "nbformat_minor": 5
}
